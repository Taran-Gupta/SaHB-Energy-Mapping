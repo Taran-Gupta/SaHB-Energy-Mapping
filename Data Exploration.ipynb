{
 "cells": [
  {
   "cell_type": "markdown",
   "id": "f763d899",
   "metadata": {},
   "source": [
    "## 1.0 Code Setup"
   ]
  },
  {
   "cell_type": "markdown",
   "id": "d14026f8",
   "metadata": {},
   "source": [
    "1.1 Importing Databases"
   ]
  },
  {
   "cell_type": "code",
   "execution_count": 6,
   "id": "2e821a67",
   "metadata": {},
   "outputs": [],
   "source": [
    "import influxdb\n",
    "from datetime import datetime\n",
    "import pandas as pd\n",
    "import iso8601\n",
    "import matplotlib\n",
    "from matplotlib import pyplot as plt\n",
    "import matplotlib.dates as mdates"
   ]
  },
  {
   "cell_type": "code",
   "execution_count": 7,
   "id": "a9a6c8f6",
   "metadata": {},
   "outputs": [
    {
     "name": "stdout",
     "output_type": "stream",
     "text": [
      "InfluxDB client imported successfully.\n"
     ]
    }
   ],
   "source": [
    "print(\"InfluxDB client imported successfully.\")"
   ]
  },
  {
   "cell_type": "markdown",
   "id": "5414ded8",
   "metadata": {},
   "source": [
    "1.2 Connecting to InfluxDB for LLL Data"
   ]
  },
  {
   "cell_type": "code",
   "execution_count": 8,
   "id": "70dc3a8c",
   "metadata": {},
   "outputs": [],
   "source": [
    "# Connecting to influxDB\n",
    "HOST = 'influx.linklab.virginia.edu'\n",
    "PORT = 443\n",
    "USERNAME = 'sahbf24'\n",
    "PASSWORD = 'raighee7Ahpheej3eud2sheob7seey7'\n",
    "DATABASE = 'gateway-generic'\n",
    "\n",
    "client = influxdb.InfluxDBClient(HOST, PORT, USERNAME, PASSWORD, DATABASE, ssl=True, verify_ssl=True)"
   ]
  },
  {
   "cell_type": "code",
   "execution_count": 9,
   "id": "e719f7b4",
   "metadata": {},
   "outputs": [
    {
     "name": "stdout",
     "output_type": "stream",
     "text": [
      "ResultSet({'('voc_ppb', None)': [{'time': '2025-10-27T19:28:14.678000Z', 'value': 176.0}]})\n"
     ]
    }
   ],
   "source": [
    "# testing connection\n",
    "result = client.query('SELECT value FROM voc_ppb ORDER BY time DESC LIMIT 1 ;')\n",
    "print(result)"
   ]
  },
  {
   "cell_type": "markdown",
   "id": "abdd705d",
   "metadata": {},
   "source": [
    "## 2.0 Understanding Energy Data"
   ]
  },
  {
   "cell_type": "markdown",
   "id": "da1c1417",
   "metadata": {},
   "source": [
    "2.1 Showing all available tags for \"energy_kWh\", which is the recommended measurement based on https://infrastructure.linklab.virginia.edu/linklabcloud/index.html"
   ]
  },
  {
   "cell_type": "code",
   "execution_count": 22,
   "id": "9a04a98c",
   "metadata": {},
   "outputs": [
    {
     "name": "stdout",
     "output_type": "stream",
     "text": [
      "ResultSet({'('energy_kWh', None)': [{'tagKey': 'account_no'}, {'tagKey': 'apsystems_system_id'}, {'tagKey': 'description'}, {'tagKey': 'details'}, {'tagKey': 'device_class'}, {'tagKey': 'device_id'}, {'tagKey': 'facilities_tag'}, {'tagKey': 'gateway_id'}, {'tagKey': 'location_general'}, {'tagKey': 'location_specific'}, {'tagKey': 'receiver'}, {'tagKey': 'recorder_id'}]})\n"
     ]
    }
   ],
   "source": [
    "result = client.query('SHOW TAG KEYS FROM \"energy_kWh\"')\n",
    "print(result)"
   ]
  },
  {
   "cell_type": "markdown",
   "id": "d5187a93",
   "metadata": {},
   "source": [
    "2.2 Finding available sensors in Olsson 2xx"
   ]
  },
  {
   "cell_type": "code",
   "execution_count": 23,
   "id": "1b2d7ed4",
   "metadata": {},
   "outputs": [
    {
     "name": "stdout",
     "output_type": "stream",
     "text": [
      "Number of sensors reporting energy_kWh data: 197\n"
     ]
    }
   ],
   "source": [
    "result = client.query('SHOW TAG VALUES FROM \"energy_kWh\" WITH KEY = \"device_id\"')\n",
    "points = list(result.get_points())\n",
    "num_sensors = len(points)\n",
    "print(f\"Number of sensors reporting energy_kWh data: {num_sensors}\")"
   ]
  },
  {
   "cell_type": "code",
   "execution_count": 29,
   "id": "28280a84",
   "metadata": {},
   "outputs": [
    {
     "name": "stdout",
     "output_type": "stream",
     "text": [
      "Locations reporting energy_kWh data:\n",
      "200 Olsson\n",
      "201 Olsson\n",
      "203 Olsson\n",
      "206 Olsson\n",
      "208 Olsson\n",
      "210 Olsson\n",
      "211 Olsson\n",
      "213 Olsson\n",
      "217 Olsson\n",
      "218 Olsson\n",
      "219 Olsson\n",
      "225 Olsson\n",
      "229 Olsson\n",
      "240 Olsson\n",
      "241 Olsson\n",
      "243 Olsson\n",
      "245 Olsson\n",
      "247 Olsson\n",
      "249 Olsson\n",
      "251 Olsson\n",
      "253 Olsson\n",
      "255 Olsson\n",
      "256 Olsson\n",
      "257 Olsson\n",
      "259 Olsson\n",
      "260 Olsson\n",
      "261 Olsson\n",
      "263 Olsson\n",
      "265 Olsson\n",
      "269 Olsson\n",
      "270 Olsson\n",
      "271 Olsson\n",
      "273 Olsson\n",
      "274 Olsson\n",
      "276 Olsson\n",
      "277 Olsson\n",
      "279 Olsson\n",
      "281 Olsson\n",
      "283 Olsson\n",
      "285 Olsson\n",
      "286 Olsson\n",
      "2nd Floor Olsson\n",
      "Home\n",
      "Roof\n"
     ]
    }
   ],
   "source": [
    "result = client.query('SHOW TAG VALUES FROM \"energy_kWh\" WITH KEY = \"location_specific\"')\n",
    "locations = list(result.get_points())\n",
    "print(\"Locations reporting energy_kWh data:\")\n",
    "for location in locations:\n",
    "    print(location['value'])"
   ]
  },
  {
   "cell_type": "code",
   "execution_count": null,
   "id": "092f90f5",
   "metadata": {},
   "outputs": [],
   "source": []
  }
 ],
 "metadata": {
  "kernelspec": {
   "display_name": "3.12.7-env",
   "language": "python",
   "name": "python3"
  },
  "language_info": {
   "codemirror_mode": {
    "name": "ipython",
    "version": 3
   },
   "file_extension": ".py",
   "mimetype": "text/x-python",
   "name": "python",
   "nbconvert_exporter": "python",
   "pygments_lexer": "ipython3",
   "version": "3.12.7"
  }
 },
 "nbformat": 4,
 "nbformat_minor": 5
}
