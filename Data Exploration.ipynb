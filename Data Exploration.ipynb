{
 "cells": [
  {
   "cell_type": "markdown",
   "id": "f763d899",
   "metadata": {},
   "source": [
    "## 1.0 Code Setup"
   ]
  },
  {
   "cell_type": "markdown",
   "id": "d14026f8",
   "metadata": {},
   "source": [
    "1.1 Importing Databases"
   ]
  },
  {
   "cell_type": "code",
   "execution_count": 12,
   "id": "2e821a67",
   "metadata": {},
   "outputs": [
    {
     "ename": "ModuleNotFoundError",
     "evalue": "No module named 'iso8601'",
     "output_type": "error",
     "traceback": [
      "\u001b[1;31m---------------------------------------------------------------------------\u001b[0m",
      "\u001b[1;31mModuleNotFoundError\u001b[0m                       Traceback (most recent call last)",
      "\u001b[1;32m~\\AppData\\Local\\Temp\\ipykernel_48648\\98710891.py\u001b[0m in \u001b[0;36m<cell line: 4>\u001b[1;34m()\u001b[0m\n\u001b[0;32m      2\u001b[0m \u001b[1;32mfrom\u001b[0m \u001b[0mdatetime\u001b[0m \u001b[1;32mimport\u001b[0m \u001b[0mdatetime\u001b[0m\u001b[1;33m\u001b[0m\u001b[1;33m\u001b[0m\u001b[0m\n\u001b[0;32m      3\u001b[0m \u001b[1;32mimport\u001b[0m \u001b[0mpandas\u001b[0m \u001b[1;32mas\u001b[0m \u001b[0mpd\u001b[0m\u001b[1;33m\u001b[0m\u001b[1;33m\u001b[0m\u001b[0m\n\u001b[1;32m----> 4\u001b[1;33m \u001b[1;32mimport\u001b[0m \u001b[0miso8601\u001b[0m\u001b[1;33m\u001b[0m\u001b[1;33m\u001b[0m\u001b[0m\n\u001b[0m\u001b[0;32m      5\u001b[0m \u001b[1;32mimport\u001b[0m \u001b[0mmatplotlib\u001b[0m\u001b[1;33m\u001b[0m\u001b[1;33m\u001b[0m\u001b[0m\n\u001b[0;32m      6\u001b[0m \u001b[1;32mfrom\u001b[0m \u001b[0mmatplotlib\u001b[0m \u001b[1;32mimport\u001b[0m \u001b[0mpyplot\u001b[0m \u001b[1;32mas\u001b[0m \u001b[0mplt\u001b[0m\u001b[1;33m\u001b[0m\u001b[1;33m\u001b[0m\u001b[0m\n",
      "\u001b[1;31mModuleNotFoundError\u001b[0m: No module named 'iso8601'"
     ]
    }
   ],
   "source": [
    "import influxdb\n",
    "from datetime import datetime\n",
    "import pandas as pd\n",
    "import iso8601\n",
    "import matplotlib\n",
    "from matplotlib import pyplot as plt\n",
    "import matplotlib.dates as mdates"
   ]
  },
  {
   "cell_type": "code",
   "execution_count": null,
   "id": "a9a6c8f6",
   "metadata": {},
   "outputs": [
    {
     "name": "stdout",
     "output_type": "stream",
     "text": [
      "InfluxDB client imported successfully.\n"
     ]
    }
   ],
   "source": [
    "print(\"InfluxDB client imported successfully.\")"
   ]
  },
  {
   "cell_type": "markdown",
   "id": "5414ded8",
   "metadata": {},
   "source": [
    "1.2 Connecting to InfluxDB for LLL Data"
   ]
  },
  {
   "cell_type": "code",
   "execution_count": null,
   "id": "70dc3a8c",
   "metadata": {},
   "outputs": [],
   "source": [
    "# Connecting to influxDB\n",
    "HOST = 'influx.linklab.virginia.edu'\n",
    "PORT = 443\n",
    "USERNAME = 'sahbf24'\n",
    "PASSWORD = 'raighee7Ahpheej3eud2sheob7seey7'\n",
    "DATABASE = 'gateway-generic'\n",
    "\n",
    "client = influxdb.InfluxDBClient(HOST, PORT, USERNAME, PASSWORD, DATABASE, ssl=True, verify_ssl=True)"
   ]
  },
  {
   "cell_type": "code",
   "execution_count": null,
   "id": "e719f7b4",
   "metadata": {},
   "outputs": [
    {
     "name": "stdout",
     "output_type": "stream",
     "text": [
      "ResultSet({'('voc_ppb', None)': [{'time': '2025-10-28T18:18:16.520000Z', 'value': 78.0}]})\n"
     ]
    }
   ],
   "source": [
    "# testing connection\n",
    "result = client.query('SELECT value FROM voc_ppb ORDER BY time DESC LIMIT 1 ;')\n",
    "print(result)"
   ]
  },
  {
   "cell_type": "markdown",
   "id": "abdd705d",
   "metadata": {},
   "source": [
    "## 2.0 Understanding Energy Data"
   ]
  },
  {
   "cell_type": "markdown",
   "id": "da1c1417",
   "metadata": {},
   "source": [
    "2.1 Showing all available tags for \"energy_kWh\", which is the recommended measurement based on https://infrastructure.linklab.virginia.edu/linklabcloud/index.html"
   ]
  },
  {
   "cell_type": "code",
   "execution_count": null,
   "id": "9a04a98c",
   "metadata": {},
   "outputs": [
    {
     "name": "stdout",
     "output_type": "stream",
     "text": [
      "ResultSet({'('energy_kWh', None)': [{'tagKey': 'account_no'}, {'tagKey': 'apsystems_system_id'}, {'tagKey': 'description'}, {'tagKey': 'details'}, {'tagKey': 'device_class'}, {'tagKey': 'device_id'}, {'tagKey': 'facilities_tag'}, {'tagKey': 'gateway_id'}, {'tagKey': 'location_general'}, {'tagKey': 'location_specific'}, {'tagKey': 'receiver'}, {'tagKey': 'recorder_id'}]})\n"
     ]
    }
   ],
   "source": [
    "result = client.query('SHOW TAG KEYS FROM \"energy_kWh\"')\n",
    "print(result)"
   ]
  },
  {
   "cell_type": "markdown",
   "id": "d5187a93",
   "metadata": {},
   "source": [
    "2.2 Finding available sensors in Olsson 2xx"
   ]
  },
  {
   "cell_type": "code",
   "execution_count": null,
   "id": "1b2d7ed4",
   "metadata": {},
   "outputs": [
    {
     "name": "stdout",
     "output_type": "stream",
     "text": [
      "Number of sensors reporting energy_kWh data: 197\n"
     ]
    }
   ],
   "source": [
    "result = client.query('SHOW TAG VALUES FROM \"energy_kWh\" WITH KEY = \"device_id\"')\n",
    "points = list(result.get_points())\n",
    "num_sensors = len(points)\n",
    "print(f\"Number of sensors reporting energy_kWh data: {num_sensors}\")"
   ]
  },
  {
   "cell_type": "code",
   "execution_count": null,
   "id": "28280a84",
   "metadata": {},
   "outputs": [
    {
     "name": "stdout",
     "output_type": "stream",
     "text": [
      "Locations reporting energy_kWh data:\n",
      "200 Olsson\n",
      "201 Olsson\n",
      "203 Olsson\n",
      "206 Olsson\n",
      "208 Olsson\n",
      "210 Olsson\n",
      "211 Olsson\n",
      "213 Olsson\n",
      "217 Olsson\n",
      "218 Olsson\n",
      "219 Olsson\n",
      "225 Olsson\n",
      "229 Olsson\n",
      "240 Olsson\n",
      "241 Olsson\n",
      "243 Olsson\n",
      "245 Olsson\n",
      "247 Olsson\n",
      "249 Olsson\n",
      "251 Olsson\n",
      "253 Olsson\n",
      "255 Olsson\n",
      "256 Olsson\n",
      "257 Olsson\n",
      "259 Olsson\n",
      "260 Olsson\n",
      "261 Olsson\n",
      "263 Olsson\n",
      "265 Olsson\n",
      "269 Olsson\n",
      "270 Olsson\n",
      "271 Olsson\n",
      "273 Olsson\n",
      "274 Olsson\n",
      "276 Olsson\n",
      "277 Olsson\n",
      "279 Olsson\n",
      "281 Olsson\n",
      "283 Olsson\n",
      "285 Olsson\n",
      "286 Olsson\n",
      "2nd Floor Olsson\n",
      "Home\n",
      "Roof\n"
     ]
    }
   ],
   "source": [
    "result = client.query('SHOW TAG VALUES FROM \"energy_kWh\" WITH KEY = \"location_specific\"')\n",
    "locations = list(result.get_points())\n",
    "print(\"Locations reporting energy_kWh data:\")\n",
    "for location in locations:\n",
    "    print(location['value'])"
   ]
  },
  {
   "cell_type": "markdown",
   "id": "e88980b3",
   "metadata": {},
   "source": [
    "Import Polygon Floorplan Model\n"
   ]
  },
  {
   "cell_type": "code",
   "execution_count": 16,
   "id": "092f90f5",
   "metadata": {},
   "outputs": [
    {
     "name": "stdout",
     "output_type": "stream",
     "text": [
      "1. Loading geometry and energy data...\n",
      "2. Data merged successfully. 38 rooms processed.\n",
      "3. Generating and saving map...\n",
      "Map successfully generated and saved to spatial_energy_map.png\n"
     ]
    },
    {
     "data": {
      "image/png": "[encoded data removed]",
      "text/plain": [
       "<Figure size 1500x1500 with 2 Axes>"
      ]
     },
     "metadata": {},
     "output_type": "display_data"
    }
   ],
   "source": [
    "import geopandas as gpd\n",
    "import pandas as pd\n",
    "import matplotlib.pyplot as plt\n",
    "from matplotlib.colors import LinearSegmentedColormap\n",
    "\n",
    "spatial_map = \"LLFloorplan.gpkg\"\n",
    "energy_csv = \"TrialEnergyCSV.csv\"\n",
    "Room_ID_col = \"Room_ID\"\n",
    "Energy_col = \"Energy\"\n",
    "OUTPUT_MAP_FILE = 'spatial_energy_map.png'\n",
    "\n",
    "# Load Data and Geometry\n",
    "print(\"1. Loading geometry and energy data...\")\n",
    "try:\n",
    "    energy_df = pd.read_csv(energy_csv) \n",
    "    floorplan_gdf = gpd.read_file(spatial_map)\n",
    "    \n",
    "except Exception as e:\n",
    "    print(f\"ERROR: Could not load one of the files. Check file names, paths, and extensions.\")\n",
    "    print(f\"Details: {e}\")\n",
    "    exit()\n",
    "\n",
    "# Data Merge\n",
    "# Merges geometry (from GPKG) with the energy values (from CSV) using the common Room_ID column\n",
    "merged_gdf = floorplan_gdf.merge(\n",
    "    energy_df,\n",
    "    on=Room_ID_col, \n",
    "    how='left' \n",
    ")\n",
    "print(f\"2. Data merged successfully. {len(merged_gdf)} rooms processed.\")\n",
    "\n",
    "# Define Color Ramp (Green=Low Energy, Red=High Energy)\n",
    "cmap = LinearSegmentedColormap.from_list(\n",
    "    'EnergyRamp',\n",
    "    ['#2ecc71', '#f1c40f', '#e74c3c'], # Green (Low) -> Yellow (Mid) -> Red (High)\n",
    "    N=256\n",
    ")\n",
    "\n",
    "# Generate the Map\n",
    "print(\"3. Generating and saving map...\")\n",
    "fig, ax = plt.subplots(1, 1, figsize=(15, 15))\n",
    "\n",
    "# Plot the merged GeoDataFrame, coloring based on the Energy_col\n",
    "merged_gdf.plot(\n",
    "    column=Energy_col, \n",
    "    cmap=cmap,\n",
    "    linewidth=1,\n",
    "    ax=ax,\n",
    "    edgecolor='black', \n",
    "    legend=True,\n",
    "    missing_kwds={\"color\": \"lightgrey\", \"label\": \"No Data\"}, \n",
    "    legend_kwds={\n",
    "        'label': f\"{Energy_col} Usage (kWh)\",\n",
    "        'orientation': \"horizontal\",\n",
    "        'shrink': .6,\n",
    "        'pad': 0.02\n",
    "    }\n",
    ")\n",
    "\n",
    "# Add Room Labels\n",
    "for idx, row in merged_gdf.iterrows():\n",
    "    # Use the Room_ID_col for the label text but removes Olsson for space\n",
    "    try:\n",
    "        ax.annotate(\n",
    "            str(row[Room_ID_col]).replace('Olsson', '').strip(), \n",
    "            xy=(row.geometry.centroid.x, row.geometry.centroid.y), \n",
    "            horizontalalignment='center',\n",
    "            fontsize=10,\n",
    "            color='black'\n",
    "        )\n",
    "    except Exception:\n",
    "        continue\n",
    "\n",
    "\n",
    "# Final Polish and Save\n",
    "ax.set_title(f'Link Lab Spatial Map: {Energy_col} Visualization of Rooms in Olsson', fontsize=20)\n",
    "ax.set_axis_off() \n",
    "plt.tight_layout()\n",
    "plt.savefig(OUTPUT_MAP_FILE, dpi=300)\n",
    "print(f\"Map successfully generated and saved to {OUTPUT_MAP_FILE}\")\n"
   ]
  }
 ],
 "metadata": {
  "kernelspec": {
   "display_name": "Python 3",
   "language": "python",
   "name": "python3"
  },
  "language_info": {
   "codemirror_mode": {
    "name": "ipython",
    "version": 3
   },
   "file_extension": ".py",
   "mimetype": "text/x-python",
   "name": "python",
   "nbconvert_exporter": "python",
   "pygments_lexer": "ipython3",
   "version": "3.9.24"
  }
 },
 "nbformat": 4,
 "nbformat_minor": 5
}
