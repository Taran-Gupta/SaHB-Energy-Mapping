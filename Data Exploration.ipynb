{
 "cells": [
  {
   "cell_type": "markdown",
   "id": "f763d899",
   "metadata": {},
   "source": [
    "## 1.0 Code Setup"
   ]
  },
  {
   "cell_type": "markdown",
   "id": "d14026f8",
   "metadata": {},
   "source": [
    "1.1 Importing Databases"
   ]
  },
  {
   "cell_type": "code",
   "execution_count": 1,
   "id": "2e821a67",
   "metadata": {},
   "outputs": [],
   "source": [
    "import influxdb\n",
    "from datetime import datetime\n",
    "import pandas as pd\n",
    "import matplotlib\n",
    "from matplotlib import pyplot as plt\n",
    "import matplotlib.dates as mdates"
   ]
  },
  {
   "cell_type": "code",
   "execution_count": 2,
   "id": "a9a6c8f6",
   "metadata": {},
   "outputs": [
    {
     "name": "stdout",
     "output_type": "stream",
     "text": [
      "InfluxDB client imported successfully.\n"
     ]
    }
   ],
   "source": [
    "print(\"InfluxDB client imported successfully.\")"
   ]
  },
  {
   "cell_type": "markdown",
   "id": "5414ded8",
   "metadata": {},
   "source": [
    "1.2 Connecting to InfluxDB for LLL Data"
   ]
  },
  {
   "cell_type": "code",
   "execution_count": 3,
   "id": "70dc3a8c",
   "metadata": {},
   "outputs": [],
   "source": [
    "# Connecting to influxDB\n",
    "HOST = 'influx.linklab.virginia.edu'\n",
    "PORT = 443\n",
    "USERNAME = 'sahbf24'\n",
    "PASSWORD = 'raighee7Ahpheej3eud2sheob7seey7'\n",
    "DATABASE = 'gateway-generic'\n",
    "\n",
    "client = influxdb.InfluxDBClient(HOST, PORT, USERNAME, PASSWORD, DATABASE, ssl=True, verify_ssl=True)"
   ]
  },
  {
   "cell_type": "code",
   "execution_count": 4,
   "id": "e719f7b4",
   "metadata": {},
   "outputs": [
    {
     "name": "stdout",
     "output_type": "stream",
     "text": [
      "ResultSet({'('voc_ppb', None)': [{'time': '2025-10-28T20:41:49.060000Z', 'value': 111.0}]})\n"
     ]
    }
   ],
   "source": [
    "# testing connection\n",
    "result = client.query('SELECT value FROM voc_ppb ORDER BY time DESC LIMIT 1 ;')\n",
    "print(result)"
   ]
  },
  {
   "cell_type": "markdown",
   "id": "abdd705d",
   "metadata": {},
   "source": [
    "## 2.0 Understanding Energy Data"
   ]
  },
  {
   "cell_type": "markdown",
   "id": "da1c1417",
   "metadata": {},
   "source": [
    "2.1 Showing all available tags for \"energy_kWh\", which is the recommended measurement based on https://infrastructure.linklab.virginia.edu/linklabcloud/index.html"
   ]
  },
  {
   "cell_type": "code",
   "execution_count": 5,
   "id": "9a04a98c",
   "metadata": {},
   "outputs": [
    {
     "name": "stdout",
     "output_type": "stream",
     "text": [
      "ResultSet({'('energy_kWh', None)': [{'tagKey': 'account_no'}, {'tagKey': 'apsystems_system_id'}, {'tagKey': 'description'}, {'tagKey': 'details'}, {'tagKey': 'device_class'}, {'tagKey': 'device_id'}, {'tagKey': 'facilities_tag'}, {'tagKey': 'gateway_id'}, {'tagKey': 'location_general'}, {'tagKey': 'location_specific'}, {'tagKey': 'receiver'}, {'tagKey': 'recorder_id'}]})\n"
     ]
    }
   ],
   "source": [
    "result = client.query('SHOW TAG KEYS FROM \"energy_kWh\"')\n",
    "print(result)"
   ]
  },
  {
   "cell_type": "markdown",
   "id": "d5187a93",
   "metadata": {},
   "source": [
    "2.2 Finding available sensors in Olsson 2xx"
   ]
  },
  {
   "cell_type": "code",
   "execution_count": 6,
   "id": "1b2d7ed4",
   "metadata": {},
   "outputs": [
    {
     "name": "stdout",
     "output_type": "stream",
     "text": [
      "Number of sensors reporting energy_kWh data: 197\n"
     ]
    }
   ],
   "source": [
    "result = client.query('SHOW TAG VALUES FROM \"energy_kWh\" WITH KEY = \"device_id\"')\n",
    "points = list(result.get_points())\n",
    "num_sensors = len(points)\n",
    "print(f\"Number of sensors reporting energy_kWh data: {num_sensors}\")"
   ]
  },
  {
   "cell_type": "code",
   "execution_count": 7,
   "id": "28280a84",
   "metadata": {},
   "outputs": [
    {
     "name": "stdout",
     "output_type": "stream",
     "text": [
      "Locations reporting energy_kWh data:\n",
      "200 Olsson\n",
      "201 Olsson\n",
      "203 Olsson\n",
      "206 Olsson\n",
      "208 Olsson\n",
      "210 Olsson\n",
      "211 Olsson\n",
      "213 Olsson\n",
      "217 Olsson\n",
      "218 Olsson\n",
      "219 Olsson\n",
      "225 Olsson\n",
      "229 Olsson\n",
      "240 Olsson\n",
      "241 Olsson\n",
      "243 Olsson\n",
      "245 Olsson\n",
      "247 Olsson\n",
      "249 Olsson\n",
      "251 Olsson\n",
      "253 Olsson\n",
      "255 Olsson\n",
      "256 Olsson\n",
      "257 Olsson\n",
      "259 Olsson\n",
      "260 Olsson\n",
      "261 Olsson\n",
      "263 Olsson\n",
      "265 Olsson\n",
      "269 Olsson\n",
      "270 Olsson\n",
      "271 Olsson\n",
      "273 Olsson\n",
      "274 Olsson\n",
      "276 Olsson\n",
      "277 Olsson\n",
      "279 Olsson\n",
      "281 Olsson\n",
      "283 Olsson\n",
      "285 Olsson\n",
      "286 Olsson\n",
      "2nd Floor Olsson\n",
      "Home\n",
      "Roof\n"
     ]
    }
   ],
   "source": [
    "result = client.query('SHOW TAG VALUES FROM \"energy_kWh\" WITH KEY = \"location_specific\"')\n",
    "locations = list(result.get_points())\n",
    "print(\"Locations reporting energy_kWh data:\")\n",
    "for location in locations:\n",
    "    print(location['value'])"
   ]
  },
  {
   "cell_type": "markdown",
   "id": "cc5bf871",
   "metadata": {},
   "source": [
    "2.3 Query tests for energy data"
   ]
  },
  {
   "cell_type": "code",
   "execution_count": 10,
   "id": "432d2fc4",
   "metadata": {},
   "outputs": [],
   "source": [
    "# test to see query output and time to run\n",
    "query = \"\"\"\n",
    "SELECT SUM(\"value\") \n",
    "FROM \"energy_kWh\"\n",
    "WHERE time > now() - 7d \n",
    "  AND \"location_specific\" =~ /^([0-9]+ Olsson)$/\n",
    "GROUP BY time(1w), \"device_id\"\n",
    "\"\"\"\n",
    "result = client.query(query)"
   ]
  },
  {
   "cell_type": "code",
   "execution_count": 21,
   "id": "8c06de45",
   "metadata": {},
   "outputs": [
    {
     "data": {
      "application/vnd.microsoft.datawrangler.viewer.v0+json": {
       "columns": [
        {
         "name": "index",
         "rawType": "int64",
         "type": "integer"
        },
        {
         "name": "device_id",
         "rawType": "object",
         "type": "string"
        },
        {
         "name": "location_specific",
         "rawType": "object",
         "type": "string"
        },
        {
         "name": "time",
         "rawType": "object",
         "type": "string"
        },
        {
         "name": "energy_sum",
         "rawType": "float64",
         "type": "float"
        }
       ],
       "ref": "9012693b-acb6-415e-ac49-d0e4edbd5344",
       "rows": [
        [
         "0",
         "ELEUV0202SM1Aa",
         "201 Olsson",
         "2025-09-25T00:00:00Z",
         "365655.9270401001"
        ],
        [
         "1",
         "ELEUV0202SM1Aa",
         "201 Olsson",
         "2025-10-02T00:00:00Z",
         "852010.2760925293"
        ],
        [
         "2",
         "ELEUV0202SM1Aa",
         "201 Olsson",
         "2025-10-09T00:00:00Z",
         "815770.339225769"
        ],
        [
         "3",
         "ELEUV0202SM1Aa",
         "201 Olsson",
         "2025-10-16T00:00:00Z",
         "842654.0603713989"
        ],
        [
         "4",
         "ELEUV0202SM1Aa",
         "201 Olsson",
         "2025-10-23T00:00:00Z",
         "733845.8118362427"
        ],
        [
         "5",
         "ELEUV0202SM1Ab",
         "201 Olsson",
         "2025-09-25T00:00:00Z",
         "20498243.048828125"
        ],
        [
         "6",
         "ELEUV0202SM1Ab",
         "201 Olsson",
         "2025-10-02T00:00:00Z",
         "47609287.28857422"
        ],
        [
         "7",
         "ELEUV0202SM1Ab",
         "201 Olsson",
         "2025-10-09T00:00:00Z",
         "45847619.021484375"
        ],
        [
         "8",
         "ELEUV0202SM1Ab",
         "201 Olsson",
         "2025-10-16T00:00:00Z",
         "47414528.423828125"
        ],
        [
         "9",
         "ELEUV0202SM1Ab",
         "201 Olsson",
         "2025-10-23T00:00:00Z",
         "41344220.126464844"
        ],
        [
         "10",
         "ELEUV0202SM1Ac",
         "201 Olsson",
         "2025-09-25T00:00:00Z",
         "22251253.92919922"
        ],
        [
         "11",
         "ELEUV0202SM1Ac",
         "201 Olsson",
         "2025-10-02T00:00:00Z",
         "52129199.083496094"
        ],
        [
         "12",
         "ELEUV0202SM1Ac",
         "201 Olsson",
         "2025-10-09T00:00:00Z",
         "50279928.61279297"
        ],
        [
         "13",
         "ELEUV0202SM1Ac",
         "201 Olsson",
         "2025-10-16T00:00:00Z",
         "52167234.63232422"
        ],
        [
         "14",
         "ELEUV0202SM1Ac",
         "201 Olsson",
         "2025-10-23T00:00:00Z",
         "45829856.873535156"
        ],
        [
         "15",
         "ELEUV0202SM1Ba",
         "273 Olsson",
         "2025-09-25T00:00:00Z",
         "115672.71767044067"
        ],
        [
         "16",
         "ELEUV0202SM1Ba",
         "273 Olsson",
         "2025-10-02T00:00:00Z",
         "269372.16508102417"
        ],
        [
         "17",
         "ELEUV0202SM1Ba",
         "273 Olsson",
         "2025-10-09T00:00:00Z",
         "258075.48629760742"
        ],
        [
         "18",
         "ELEUV0202SM1Ba",
         "273 Olsson",
         "2025-10-16T00:00:00Z",
         "266715.5915107727"
        ],
        [
         "19",
         "ELEUV0202SM1Ba",
         "273 Olsson",
         "2025-10-23T00:00:00Z",
         "232265.09944152832"
        ],
        [
         "20",
         "ELEUV0202SM1Bb",
         "271 Olsson",
         "2025-09-25T00:00:00Z",
         "312353.97399902344"
        ],
        [
         "21",
         "ELEUV0202SM1Bb",
         "271 Olsson",
         "2025-10-02T00:00:00Z",
         "725490.8690032959"
        ],
        [
         "22",
         "ELEUV0202SM1Bb",
         "271 Olsson",
         "2025-10-09T00:00:00Z",
         "695205.9183654785"
        ],
        [
         "23",
         "ELEUV0202SM1Bb",
         "271 Olsson",
         "2025-10-16T00:00:00Z",
         "714000.0507507324"
        ],
        [
         "24",
         "ELEUV0202SM1Bb",
         "271 Olsson",
         "2025-10-23T00:00:00Z",
         "622344.0787200928"
        ],
        [
         "25",
         "ELEUV0202SM1Bc",
         "269 Olsson",
         "2025-09-25T00:00:00Z",
         "6451459.199707031"
        ],
        [
         "26",
         "ELEUV0202SM1Bc",
         "269 Olsson",
         "2025-10-02T00:00:00Z",
         "15049059.677734375"
        ],
        [
         "27",
         "ELEUV0202SM1Bc",
         "269 Olsson",
         "2025-10-09T00:00:00Z",
         "14563534.595703125"
        ],
        [
         "28",
         "ELEUV0202SM1Bc",
         "269 Olsson",
         "2025-10-16T00:00:00Z",
         "15207151.87524414"
        ],
        [
         "29",
         "ELEUV0202SM1Bc",
         "269 Olsson",
         "2025-10-23T00:00:00Z",
         "13359766.854492188"
        ],
        [
         "30",
         "ELEUV0202SM1Ca",
         "240 Olsson",
         "2025-09-25T00:00:00Z",
         "3790735.244873047"
        ],
        [
         "31",
         "ELEUV0202SM1Ca",
         "240 Olsson",
         "2025-10-02T00:00:00Z",
         "8776602.548583984"
        ],
        [
         "32",
         "ELEUV0202SM1Ca",
         "240 Olsson",
         "2025-10-09T00:00:00Z",
         "8406901.708862305"
        ],
        [
         "33",
         "ELEUV0202SM1Ca",
         "240 Olsson",
         "2025-10-16T00:00:00Z",
         "8625605.075439453"
        ],
        [
         "34",
         "ELEUV0202SM1Ca",
         "240 Olsson",
         "2025-10-23T00:00:00Z",
         "7516947.794555664"
        ],
        [
         "35",
         "ELEUV0202SM1Cb",
         "240 Olsson",
         "2025-09-25T00:00:00Z",
         "5352766.163574219"
        ],
        [
         "36",
         "ELEUV0202SM1Cb",
         "240 Olsson",
         "2025-10-02T00:00:00Z",
         "12378796.106079102"
        ],
        [
         "37",
         "ELEUV0202SM1Cb",
         "240 Olsson",
         "2025-10-09T00:00:00Z",
         "11867221.978027344"
        ],
        [
         "38",
         "ELEUV0202SM1Cb",
         "240 Olsson",
         "2025-10-16T00:00:00Z",
         "12180950.307983398"
        ],
        [
         "39",
         "ELEUV0202SM1Cb",
         "240 Olsson",
         "2025-10-23T00:00:00Z",
         "10593229.648071289"
        ],
        [
         "40",
         "ELEUV0202SM1Cc",
         "240 Olsson",
         "2025-09-25T00:00:00Z",
         "23423348.51220703"
        ],
        [
         "41",
         "ELEUV0202SM1Cc",
         "240 Olsson",
         "2025-10-02T00:00:00Z",
         "54310532.24609375"
        ],
        [
         "42",
         "ELEUV0202SM1Cc",
         "240 Olsson",
         "2025-10-09T00:00:00Z",
         "52120705.087402344"
        ],
        [
         "43",
         "ELEUV0202SM1Cc",
         "240 Olsson",
         "2025-10-16T00:00:00Z",
         "53504444.0390625"
        ],
        [
         "44",
         "ELEUV0202SM1Cc",
         "240 Olsson",
         "2025-10-23T00:00:00Z",
         "46487629.693359375"
        ],
        [
         "45",
         "ELEUV0202SM1Da",
         "208 Olsson",
         "2025-09-25T00:00:00Z",
         "1122322.3547973633"
        ],
        [
         "46",
         "ELEUV0202SM1Da",
         "208 Olsson",
         "2025-10-02T00:00:00Z",
         "2609693.9873962402"
        ],
        [
         "47",
         "ELEUV0202SM1Da",
         "208 Olsson",
         "2025-10-09T00:00:00Z",
         "2506584.3063964844"
        ],
        [
         "48",
         "ELEUV0202SM1Da",
         "208 Olsson",
         "2025-10-16T00:00:00Z",
         "2579272.202972412"
        ],
        [
         "49",
         "ELEUV0202SM1Da",
         "208 Olsson",
         "2025-10-23T00:00:00Z",
         "2250650.9237060547"
        ]
       ],
       "shape": {
        "columns": 4,
        "rows": 550
       }
      },
      "text/html": [
       "<div>\n",
       "<style scoped>\n",
       "    .dataframe tbody tr th:only-of-type {\n",
       "        vertical-align: middle;\n",
       "    }\n",
       "\n",
       "    .dataframe tbody tr th {\n",
       "        vertical-align: top;\n",
       "    }\n",
       "\n",
       "    .dataframe thead th {\n",
       "        text-align: right;\n",
       "    }\n",
       "</style>\n",
       "<table border=\"1\" class=\"dataframe\">\n",
       "  <thead>\n",
       "    <tr style=\"text-align: right;\">\n",
       "      <th></th>\n",
       "      <th>device_id</th>\n",
       "      <th>location_specific</th>\n",
       "      <th>time</th>\n",
       "      <th>energy_sum</th>\n",
       "    </tr>\n",
       "  </thead>\n",
       "  <tbody>\n",
       "    <tr>\n",
       "      <th>0</th>\n",
       "      <td>ELEUV0202SM1Aa</td>\n",
       "      <td>201 Olsson</td>\n",
       "      <td>2025-09-25T00:00:00Z</td>\n",
       "      <td>3.656559e+05</td>\n",
       "    </tr>\n",
       "    <tr>\n",
       "      <th>1</th>\n",
       "      <td>ELEUV0202SM1Aa</td>\n",
       "      <td>201 Olsson</td>\n",
       "      <td>2025-10-02T00:00:00Z</td>\n",
       "      <td>8.520103e+05</td>\n",
       "    </tr>\n",
       "    <tr>\n",
       "      <th>2</th>\n",
       "      <td>ELEUV0202SM1Aa</td>\n",
       "      <td>201 Olsson</td>\n",
       "      <td>2025-10-09T00:00:00Z</td>\n",
       "      <td>8.157703e+05</td>\n",
       "    </tr>\n",
       "    <tr>\n",
       "      <th>3</th>\n",
       "      <td>ELEUV0202SM1Aa</td>\n",
       "      <td>201 Olsson</td>\n",
       "      <td>2025-10-16T00:00:00Z</td>\n",
       "      <td>8.426541e+05</td>\n",
       "    </tr>\n",
       "    <tr>\n",
       "      <th>4</th>\n",
       "      <td>ELEUV0202SM1Aa</td>\n",
       "      <td>201 Olsson</td>\n",
       "      <td>2025-10-23T00:00:00Z</td>\n",
       "      <td>7.338458e+05</td>\n",
       "    </tr>\n",
       "    <tr>\n",
       "      <th>...</th>\n",
       "      <td>...</td>\n",
       "      <td>...</td>\n",
       "      <td>...</td>\n",
       "      <td>...</td>\n",
       "    </tr>\n",
       "    <tr>\n",
       "      <th>545</th>\n",
       "      <td>ELEUV0202SM3Oc</td>\n",
       "      <td>210 Olsson</td>\n",
       "      <td>2025-09-25T00:00:00Z</td>\n",
       "      <td>1.189688e+06</td>\n",
       "    </tr>\n",
       "    <tr>\n",
       "      <th>546</th>\n",
       "      <td>ELEUV0202SM3Oc</td>\n",
       "      <td>210 Olsson</td>\n",
       "      <td>2025-10-02T00:00:00Z</td>\n",
       "      <td>2.762024e+06</td>\n",
       "    </tr>\n",
       "    <tr>\n",
       "      <th>547</th>\n",
       "      <td>ELEUV0202SM3Oc</td>\n",
       "      <td>210 Olsson</td>\n",
       "      <td>2025-10-09T00:00:00Z</td>\n",
       "      <td>2.644939e+06</td>\n",
       "    </tr>\n",
       "    <tr>\n",
       "      <th>548</th>\n",
       "      <td>ELEUV0202SM3Oc</td>\n",
       "      <td>210 Olsson</td>\n",
       "      <td>2025-10-16T00:00:00Z</td>\n",
       "      <td>2.735149e+06</td>\n",
       "    </tr>\n",
       "    <tr>\n",
       "      <th>549</th>\n",
       "      <td>ELEUV0202SM3Oc</td>\n",
       "      <td>210 Olsson</td>\n",
       "      <td>2025-10-23T00:00:00Z</td>\n",
       "      <td>2.376020e+06</td>\n",
       "    </tr>\n",
       "  </tbody>\n",
       "</table>\n",
       "<p>550 rows × 4 columns</p>\n",
       "</div>"
      ],
      "text/plain": [
       "          device_id location_specific                  time    energy_sum\n",
       "0    ELEUV0202SM1Aa        201 Olsson  2025-09-25T00:00:00Z  3.656559e+05\n",
       "1    ELEUV0202SM1Aa        201 Olsson  2025-10-02T00:00:00Z  8.520103e+05\n",
       "2    ELEUV0202SM1Aa        201 Olsson  2025-10-09T00:00:00Z  8.157703e+05\n",
       "3    ELEUV0202SM1Aa        201 Olsson  2025-10-16T00:00:00Z  8.426541e+05\n",
       "4    ELEUV0202SM1Aa        201 Olsson  2025-10-23T00:00:00Z  7.338458e+05\n",
       "..              ...               ...                   ...           ...\n",
       "545  ELEUV0202SM3Oc        210 Olsson  2025-09-25T00:00:00Z  1.189688e+06\n",
       "546  ELEUV0202SM3Oc        210 Olsson  2025-10-02T00:00:00Z  2.762024e+06\n",
       "547  ELEUV0202SM3Oc        210 Olsson  2025-10-09T00:00:00Z  2.644939e+06\n",
       "548  ELEUV0202SM3Oc        210 Olsson  2025-10-16T00:00:00Z  2.735149e+06\n",
       "549  ELEUV0202SM3Oc        210 Olsson  2025-10-23T00:00:00Z  2.376020e+06\n",
       "\n",
       "[550 rows x 4 columns]"
      ]
     },
     "execution_count": 21,
     "metadata": {},
     "output_type": "execute_result"
    }
   ],
   "source": [
    "query = \"\"\"\n",
    "SELECT SUM(\"value\") \n",
    "FROM \"energy_kWh\"\n",
    "WHERE \"location_specific\" =~ /^([0-9]+ Olsson)$/ and time > now() - 30d\n",
    "GROUP BY time(1w), \"device_id\", \"location_specific\"\n",
    "\"\"\"\n",
    "result = client.query(query)\n",
    "\n",
    "# Collect results into a list of dicts\n",
    "records = []\n",
    "for (measurement, tags), points in result.items():\n",
    "    device_id = tags.get('device_id')\n",
    "    location = tags.get('location_specific')\n",
    "    for p in points:\n",
    "        records.append({\n",
    "            'device_id': device_id,\n",
    "            'location_specific': location,\n",
    "            'time': p['time'],\n",
    "            'energy_sum': p['sum']\n",
    "        })\n",
    "\n",
    "# Convert to DataFrame\n",
    "sensor_df = pd.DataFrame(records)\n",
    "\n",
    "# Sort and inspect\n",
    "sensor_df = sensor_df.sort_values(['device_id', 'time'])\n",
    "sensor_df"
   ]
  },
  {
   "cell_type": "code",
   "execution_count": 22,
   "id": "f08fbcec",
   "metadata": {},
   "outputs": [
    {
     "data": {
      "application/vnd.microsoft.datawrangler.viewer.v0+json": {
       "columns": [
        {
         "name": "index",
         "rawType": "int64",
         "type": "integer"
        },
        {
         "name": "location_specific",
         "rawType": "object",
         "type": "string"
        },
        {
         "name": "time",
         "rawType": "object",
         "type": "string"
        },
        {
         "name": "energy_sum",
         "rawType": "float64",
         "type": "float"
        }
       ],
       "ref": "e2b6472e-e9b1-4c24-84dc-a0ab803c3b59",
       "rows": [
        [
         "0",
         "200 Olsson",
         "2025-09-25T00:00:00Z",
         "121145.14236831665"
        ],
        [
         "1",
         "200 Olsson",
         "2025-10-02T00:00:00Z",
         "279801.6312675476"
        ],
        [
         "2",
         "200 Olsson",
         "2025-10-09T00:00:00Z",
         "268202.1342391968"
        ],
        [
         "3",
         "200 Olsson",
         "2025-10-16T00:00:00Z",
         "275476.33155059814"
        ],
        [
         "4",
         "200 Olsson",
         "2025-10-23T00:00:00Z",
         "238908.64263916016"
        ],
        [
         "5",
         "201 Olsson",
         "2025-09-25T00:00:00Z",
         "111516104.180336"
        ],
        [
         "6",
         "201 Olsson",
         "2025-10-02T00:00:00Z",
         "259894191.52023315"
        ],
        [
         "7",
         "201 Olsson",
         "2025-10-09T00:00:00Z",
         "250068112.45067596"
        ],
        [
         "8",
         "201 Olsson",
         "2025-10-16T00:00:00Z",
         "258416662.02179718"
        ],
        [
         "9",
         "201 Olsson",
         "2025-10-23T00:00:00Z",
         "226065045.23163605"
        ],
        [
         "10",
         "203 Olsson",
         "2025-09-25T00:00:00Z",
         "135507310.59846497"
        ],
        [
         "11",
         "203 Olsson",
         "2025-10-02T00:00:00Z",
         "315927172.0131111"
        ],
        [
         "12",
         "203 Olsson",
         "2025-10-09T00:00:00Z",
         "303375219.8654938"
        ],
        [
         "13",
         "203 Olsson",
         "2025-10-16T00:00:00Z",
         "312584846.0026169"
        ],
        [
         "14",
         "203 Olsson",
         "2025-10-23T00:00:00Z",
         "273143839.537735"
        ],
        [
         "15",
         "206 Olsson",
         "2025-09-25T00:00:00Z",
         "77849115.52335282"
        ],
        [
         "16",
         "206 Olsson",
         "2025-10-02T00:00:00Z",
         "181095301.30535942"
        ],
        [
         "17",
         "206 Olsson",
         "2025-10-09T00:00:00Z",
         "173489254.67076838"
        ],
        [
         "18",
         "206 Olsson",
         "2025-10-16T00:00:00Z",
         "179107469.53591478"
        ],
        [
         "19",
         "206 Olsson",
         "2025-10-23T00:00:00Z",
         "156501369.32482362"
        ],
        [
         "20",
         "208 Olsson",
         "2025-09-25T00:00:00Z",
         "49002017.76525879"
        ],
        [
         "21",
         "208 Olsson",
         "2025-10-02T00:00:00Z",
         "113901107.31065178"
        ],
        [
         "22",
         "208 Olsson",
         "2025-10-09T00:00:00Z",
         "109291163.00938988"
        ],
        [
         "23",
         "208 Olsson",
         "2025-10-16T00:00:00Z",
         "112425380.71611214"
        ],
        [
         "24",
         "208 Olsson",
         "2025-10-23T00:00:00Z",
         "98286920.29144669"
        ],
        [
         "25",
         "210 Olsson",
         "2025-09-25T00:00:00Z",
         "140527276.54483032"
        ],
        [
         "26",
         "210 Olsson",
         "2025-10-02T00:00:00Z",
         "325866550.1485596"
        ],
        [
         "27",
         "210 Olsson",
         "2025-10-09T00:00:00Z",
         "312460257.30596924"
        ],
        [
         "28",
         "210 Olsson",
         "2025-10-16T00:00:00Z",
         "322206144.28585815"
        ],
        [
         "29",
         "210 Olsson",
         "2025-10-23T00:00:00Z",
         "281065253.40008545"
        ],
        [
         "30",
         "211 Olsson",
         "2025-09-25T00:00:00Z",
         "9911511.661933899"
        ],
        [
         "31",
         "211 Olsson",
         "2025-10-02T00:00:00Z",
         "22968186.058792114"
        ],
        [
         "32",
         "211 Olsson",
         "2025-10-09T00:00:00Z",
         "22018406.005706787"
        ],
        [
         "33",
         "211 Olsson",
         "2025-10-16T00:00:00Z",
         "22627564.439933777"
        ],
        [
         "34",
         "211 Olsson",
         "2025-10-23T00:00:00Z",
         "19669969.425308228"
        ],
        [
         "35",
         "213 Olsson",
         "2025-09-25T00:00:00Z",
         "107060540.19840518"
        ],
        [
         "36",
         "213 Olsson",
         "2025-10-02T00:00:00Z",
         "248701955.5305406"
        ],
        [
         "37",
         "213 Olsson",
         "2025-10-09T00:00:00Z",
         "238293313.94095382"
        ],
        [
         "38",
         "213 Olsson",
         "2025-10-16T00:00:00Z",
         "245904339.11921287"
        ],
        [
         "39",
         "213 Olsson",
         "2025-10-23T00:00:00Z",
         "214476900.7755685"
        ],
        [
         "40",
         "217 Olsson",
         "2025-09-25T00:00:00Z",
         "2503554.6607055664"
        ],
        [
         "41",
         "217 Olsson",
         "2025-10-02T00:00:00Z",
         "5806950.504516602"
        ],
        [
         "42",
         "217 Olsson",
         "2025-10-09T00:00:00Z",
         "5585557.962768555"
        ],
        [
         "43",
         "217 Olsson",
         "2025-10-16T00:00:00Z",
         "5728057.8435668945"
        ],
        [
         "44",
         "217 Olsson",
         "2025-10-23T00:00:00Z",
         "4987642.733703613"
        ],
        [
         "45",
         "218 Olsson",
         "2025-09-25T00:00:00Z",
         "5370951.611801147"
        ],
        [
         "46",
         "218 Olsson",
         "2025-10-02T00:00:00Z",
         "12504732.141921997"
        ],
        [
         "47",
         "218 Olsson",
         "2025-10-09T00:00:00Z",
         "12017018.41821289"
        ],
        [
         "48",
         "218 Olsson",
         "2025-10-16T00:00:00Z",
         "12418491.93800354"
        ],
        [
         "49",
         "218 Olsson",
         "2025-10-23T00:00:00Z",
         "10832614.260620117"
        ]
       ],
       "shape": {
        "columns": 3,
        "rows": 205
       }
      },
      "text/html": [
       "<div>\n",
       "<style scoped>\n",
       "    .dataframe tbody tr th:only-of-type {\n",
       "        vertical-align: middle;\n",
       "    }\n",
       "\n",
       "    .dataframe tbody tr th {\n",
       "        vertical-align: top;\n",
       "    }\n",
       "\n",
       "    .dataframe thead th {\n",
       "        text-align: right;\n",
       "    }\n",
       "</style>\n",
       "<table border=\"1\" class=\"dataframe\">\n",
       "  <thead>\n",
       "    <tr style=\"text-align: right;\">\n",
       "      <th></th>\n",
       "      <th>location_specific</th>\n",
       "      <th>time</th>\n",
       "      <th>energy_sum</th>\n",
       "    </tr>\n",
       "  </thead>\n",
       "  <tbody>\n",
       "    <tr>\n",
       "      <th>0</th>\n",
       "      <td>200 Olsson</td>\n",
       "      <td>2025-09-25T00:00:00Z</td>\n",
       "      <td>1.211451e+05</td>\n",
       "    </tr>\n",
       "    <tr>\n",
       "      <th>1</th>\n",
       "      <td>200 Olsson</td>\n",
       "      <td>2025-10-02T00:00:00Z</td>\n",
       "      <td>2.798016e+05</td>\n",
       "    </tr>\n",
       "    <tr>\n",
       "      <th>2</th>\n",
       "      <td>200 Olsson</td>\n",
       "      <td>2025-10-09T00:00:00Z</td>\n",
       "      <td>2.682021e+05</td>\n",
       "    </tr>\n",
       "    <tr>\n",
       "      <th>3</th>\n",
       "      <td>200 Olsson</td>\n",
       "      <td>2025-10-16T00:00:00Z</td>\n",
       "      <td>2.754763e+05</td>\n",
       "    </tr>\n",
       "    <tr>\n",
       "      <th>4</th>\n",
       "      <td>200 Olsson</td>\n",
       "      <td>2025-10-23T00:00:00Z</td>\n",
       "      <td>2.389086e+05</td>\n",
       "    </tr>\n",
       "    <tr>\n",
       "      <th>...</th>\n",
       "      <td>...</td>\n",
       "      <td>...</td>\n",
       "      <td>...</td>\n",
       "    </tr>\n",
       "    <tr>\n",
       "      <th>200</th>\n",
       "      <td>286 Olsson</td>\n",
       "      <td>2025-09-25T00:00:00Z</td>\n",
       "      <td>2.008027e+06</td>\n",
       "    </tr>\n",
       "    <tr>\n",
       "      <th>201</th>\n",
       "      <td>286 Olsson</td>\n",
       "      <td>2025-10-02T00:00:00Z</td>\n",
       "      <td>4.667192e+06</td>\n",
       "    </tr>\n",
       "    <tr>\n",
       "      <th>202</th>\n",
       "      <td>286 Olsson</td>\n",
       "      <td>2025-10-09T00:00:00Z</td>\n",
       "      <td>4.469564e+06</td>\n",
       "    </tr>\n",
       "    <tr>\n",
       "      <th>203</th>\n",
       "      <td>286 Olsson</td>\n",
       "      <td>2025-10-16T00:00:00Z</td>\n",
       "      <td>4.618381e+06</td>\n",
       "    </tr>\n",
       "    <tr>\n",
       "      <th>204</th>\n",
       "      <td>286 Olsson</td>\n",
       "      <td>2025-10-23T00:00:00Z</td>\n",
       "      <td>4.001616e+06</td>\n",
       "    </tr>\n",
       "  </tbody>\n",
       "</table>\n",
       "<p>205 rows × 3 columns</p>\n",
       "</div>"
      ],
      "text/plain": [
       "    location_specific                  time    energy_sum\n",
       "0          200 Olsson  2025-09-25T00:00:00Z  1.211451e+05\n",
       "1          200 Olsson  2025-10-02T00:00:00Z  2.798016e+05\n",
       "2          200 Olsson  2025-10-09T00:00:00Z  2.682021e+05\n",
       "3          200 Olsson  2025-10-16T00:00:00Z  2.754763e+05\n",
       "4          200 Olsson  2025-10-23T00:00:00Z  2.389086e+05\n",
       "..                ...                   ...           ...\n",
       "200        286 Olsson  2025-09-25T00:00:00Z  2.008027e+06\n",
       "201        286 Olsson  2025-10-02T00:00:00Z  4.667192e+06\n",
       "202        286 Olsson  2025-10-09T00:00:00Z  4.469564e+06\n",
       "203        286 Olsson  2025-10-16T00:00:00Z  4.618381e+06\n",
       "204        286 Olsson  2025-10-23T00:00:00Z  4.001616e+06\n",
       "\n",
       "[205 rows x 3 columns]"
      ]
     },
     "execution_count": 22,
     "metadata": {},
     "output_type": "execute_result"
    }
   ],
   "source": [
    "query = \"\"\"\n",
    "SELECT SUM(\"value\") \n",
    "FROM \"energy_kWh\"\n",
    "WHERE \"location_specific\" =~ /^([0-9]+ Olsson)$/ and time > now() - 30d\n",
    "GROUP BY time(1w), \"location_specific\"\n",
    "\"\"\"\n",
    "result = client.query(query)\n",
    "\n",
    "# Collect results into a list of dicts\n",
    "records = []\n",
    "for (measurement, tags), points in result.items():\n",
    "    location = tags.get('location_specific')\n",
    "    for p in points:\n",
    "        records.append({\n",
    "            'location_specific': location,\n",
    "            'time': p['time'],\n",
    "            'energy_sum': p['sum']\n",
    "        })\n",
    "\n",
    "# Convert to DataFrame\n",
    "room_df = pd.DataFrame(records)\n",
    "\n",
    "# Sort and inspect\n",
    "room_df = room_df.sort_values(['location_specific', 'time'])\n",
    "room_df"
   ]
  },
  {
   "cell_type": "markdown",
   "id": "c34e758d",
   "metadata": {},
   "source": [
    "2.4 Comparing output of both methods"
   ]
  },
  {
   "cell_type": "code",
   "execution_count": 29,
   "id": "dc080e2d",
   "metadata": {},
   "outputs": [
    {
     "name": "stdout",
     "output_type": "stream",
     "text": [
      "Total energy for 201 Olsson during week of 2025-09-25: 111,516,104 kWh\n"
     ]
    }
   ],
   "source": [
    "sensor_df['time'] = pd.to_datetime(sensor_df['time'])\n",
    "\n",
    "target_time = pd.Timestamp('2025-09-25T00:00:00Z')\n",
    "\n",
    "mask = (\n",
    "    (sensor_df['location_specific'] == '201 Olsson') &\n",
    "    (sensor_df['time'] == target_time)\n",
    ")\n",
    "\n",
    "total_energy = sensor_df.loc[mask, 'energy_sum'].sum()\n",
    "print(f\"Total energy for 201 Olsson during week of {target_time.date()}: {total_energy:,.0f} kWh\")"
   ]
  },
  {
   "cell_type": "markdown",
   "id": "3688af90",
   "metadata": {},
   "source": [
    "When code was first run, Olsson 201 for the week of 9/25/25 had a sum total (from individual sensors) of: 111,516,104 kWh which matches with the 111,516,104 kWh value achieved by only grouping by location and time, instead of also including device_id. Furthermore, querying this way where the database does the aggregation and thus returns less values created a 400% faster runtime (0.8 sec vs 0.2 sec). This is the system that should work for gathering time data. "
   ]
  },
  {
   "cell_type": "markdown",
   "id": "791d5d9d",
   "metadata": {},
   "source": [
    "## 4.0 Initial Mapping Testing "
   ]
  },
  {
   "cell_type": "markdown",
   "id": "e88980b3",
   "metadata": {},
   "source": [
    "Import Polygon Floorplan Model\n"
   ]
  },
  {
   "cell_type": "markdown",
   "id": "48790998",
   "metadata": {},
   "source": [
    "Prior to the code being run below, a map of the LLL was recreated in AutoCAD and converted to a reference object that geopandas can work with. Trial energy data was also created to test out the product of the mapping, seen below."
   ]
  },
  {
   "cell_type": "code",
   "execution_count": 1,
   "id": "092f90f5",
   "metadata": {},
   "outputs": [
    {
     "name": "stdout",
     "output_type": "stream",
     "text": [
      "1. Loading geometry and energy data...\n",
      "2. Data merged successfully. 38 rooms processed.\n",
      "3. Generating and saving map...\n",
      "Map successfully generated and saved to spatial_energy_map.png\n"
     ]
    },
    {
     "data": {
      "image/png": "[encoded data removed]",
      "text/plain": [
       "<Figure size 1500x1500 with 2 Axes>"
      ]
     },
     "metadata": {},
     "output_type": "display_data"
    }
   ],
   "source": [
    "import geopandas as gpd\n",
    "import pandas as pd\n",
    "import matplotlib.pyplot as plt\n",
    "from matplotlib.colors import LinearSegmentedColormap\n",
    "\n",
    "spatial_map = \"LLFloorplan.gpkg\"\n",
    "energy_csv = \"TrialEnergyCSV.csv\"\n",
    "Room_ID_col = \"Room_ID\"\n",
    "Energy_col = \"Energy\"\n",
    "OUTPUT_MAP_FILE = 'spatial_energy_map.png'\n",
    "\n",
    "# Load Data and Geometry\n",
    "print(\"1. Loading geometry and energy data...\")\n",
    "try:\n",
    "    energy_df = pd.read_csv(energy_csv) \n",
    "    floorplan_gdf = gpd.read_file(spatial_map)\n",
    "    \n",
    "except Exception as e:\n",
    "    print(f\"ERROR: Could not load one of the files. Check file names, paths, and extensions.\")\n",
    "    print(f\"Details: {e}\")\n",
    "    exit()\n",
    "\n",
    "# Data Merge\n",
    "# Merges geometry (from GPKG) with the energy values (from CSV) using the common Room_ID column\n",
    "merged_gdf = floorplan_gdf.merge(\n",
    "    energy_df,\n",
    "    on=Room_ID_col, \n",
    "    how='left' \n",
    ")\n",
    "print(f\"2. Data merged successfully. {len(merged_gdf)} rooms processed.\")\n",
    "\n",
    "# Define Color Ramp (Green=Low Energy, Red=High Energy)\n",
    "cmap = LinearSegmentedColormap.from_list(\n",
    "    'EnergyRamp',\n",
    "    ['#2ecc71', '#f1c40f', '#e74c3c'], # Green (Low) -> Yellow (Mid) -> Red (High)\n",
    "    N=256\n",
    ")\n",
    "\n",
    "# Generate the Map\n",
    "print(\"3. Generating and saving map...\")\n",
    "fig, ax = plt.subplots(1, 1, figsize=(15, 15))\n",
    "\n",
    "# Plot the merged GeoDataFrame, coloring based on the Energy_col\n",
    "merged_gdf.plot(\n",
    "    column=Energy_col, \n",
    "    cmap=cmap,\n",
    "    linewidth=1,\n",
    "    ax=ax,\n",
    "    edgecolor='black', \n",
    "    legend=True,\n",
    "    missing_kwds={\"color\": \"lightgrey\", \"label\": \"No Data\"}, \n",
    "    legend_kwds={\n",
    "        'label': f\"{Energy_col} Usage (kWh)\",\n",
    "        'orientation': \"horizontal\",\n",
    "        'shrink': .6,\n",
    "        'pad': 0.02\n",
    "    }\n",
    ")\n",
    "\n",
    "# Add Room Labels\n",
    "for idx, row in merged_gdf.iterrows():\n",
    "    # Use the Room_ID_col for the label text but removes Olsson for space\n",
    "    try:\n",
    "        ax.annotate(\n",
    "            str(row[Room_ID_col]).replace('Olsson', '').strip(), \n",
    "            xy=(row.geometry.centroid.x, row.geometry.centroid.y), \n",
    "            horizontalalignment='center',\n",
    "            fontsize=10,\n",
    "            color='black'\n",
    "        )\n",
    "    except Exception:\n",
    "        continue\n",
    "\n",
    "\n",
    "# Final Polish and Save\n",
    "ax.set_title(f'Link Lab Spatial Map: {Energy_col} Visualization of Rooms in Olsson', fontsize=20)\n",
    "ax.set_axis_off() \n",
    "plt.tight_layout()\n",
    "plt.savefig(OUTPUT_MAP_FILE, dpi=300)\n",
    "print(f\"Map successfully generated and saved to {OUTPUT_MAP_FILE}\")\n"
   ]
  }
 ],
 "metadata": {
  "kernelspec": {
   "display_name": "3.12.7-env",
   "language": "python",
   "name": "python3"
  },
  "language_info": {
   "codemirror_mode": {
    "name": "ipython",
    "version": 3
   },
   "file_extension": ".py",
   "mimetype": "text/x-python",
   "name": "python",
   "nbconvert_exporter": "python",
   "pygments_lexer": "ipython3",
   "version": "3.12.7"
  }
 },
 "nbformat": 4,
 "nbformat_minor": 5
}
