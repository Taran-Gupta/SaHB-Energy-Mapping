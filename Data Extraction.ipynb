{
 "cells": [
  {
   "cell_type": "markdown",
   "id": "82a44eeb",
   "metadata": {},
   "source": [
    "## 1.0 Setting up Data Extraction"
   ]
  },
  {
   "cell_type": "markdown",
   "id": "9d6dbd2c",
   "metadata": {},
   "source": [
    "1.1 Initialization"
   ]
  },
  {
   "cell_type": "code",
   "execution_count": 1,
   "id": "e0441828",
   "metadata": {},
   "outputs": [],
   "source": [
    "import influxdb\n",
    "from datetime import datetime\n",
    "import pandas as pd\n",
    "import matplotlib\n",
    "from matplotlib import pyplot as plt\n",
    "import matplotlib.dates as mdates"
   ]
  },
  {
   "cell_type": "code",
   "execution_count": 2,
   "id": "34c1be7f",
   "metadata": {},
   "outputs": [],
   "source": [
    "# Connecting to influxDB\n",
    "HOST = 'influx.linklab.virginia.edu'\n",
    "PORT = 443\n",
    "USERNAME = 'sahbf24'\n",
    "PASSWORD = 'raighee7Ahpheej3eud2sheob7seey7'\n",
    "DATABASE = 'gateway-generic'\n",
    "\n",
    "client = influxdb.InfluxDBClient(HOST, PORT, USERNAME, PASSWORD, DATABASE, ssl=True, verify_ssl=True)"
   ]
  },
  {
   "cell_type": "markdown",
   "id": "e919f565",
   "metadata": {},
   "source": [
    "1.2 Finding out how far back the data goes"
   ]
  },
  {
   "cell_type": "code",
   "execution_count": 18,
   "id": "3508ce29",
   "metadata": {},
   "outputs": [
    {
     "name": "stdout",
     "output_type": "stream",
     "text": [
      "200 Olsson: first at 2020-09-18T20:01:00Z, value=2.12270188331604\n",
      "201 Olsson: first at 2020-09-18T20:01:00Z, value=368.573974609375\n",
      "203 Olsson: first at 2020-09-18T20:01:00Z, value=5943.81787109375\n",
      "206 Olsson: first at 2020-09-18T20:01:00Z, value=3426.233642578125\n",
      "208 Olsson: first at 2020-09-18T20:01:00Z, value=1454.7528076171875\n",
      "210 Olsson: first at 2020-09-18T20:01:00Z, value=287.4942626953125\n",
      "211 Olsson: first at 2020-09-18T20:01:00Z, value=950.355712890625\n",
      "213 Olsson: first at 2020-09-18T20:01:00Z, value=3459.76123046875\n",
      "217 Olsson: first at 2020-09-18T20:01:00Z, value=299.2487487792969\n",
      "218 Olsson: first at 2020-09-18T20:01:00Z, value=170.62396240234375\n",
      "219 Olsson: first at 2020-09-18T20:01:00Z, value=20.603864669799805\n",
      "225 Olsson: first at 2020-09-18T20:01:00Z, value=356.97100830078125\n",
      "229 Olsson: first at 2020-09-18T20:01:00Z, value=300.2880554199219\n",
      "240 Olsson: first at 2020-09-18T20:01:00Z, value=1299.099853515625\n",
      "241 Olsson: first at 2020-09-18T20:01:00Z, value=166.8680877685547\n",
      "243 Olsson: first at 2020-09-18T20:01:00Z, value=382.7060546875\n",
      "245 Olsson: first at 2020-09-18T20:01:00Z, value=165.31414794921875\n",
      "247 Olsson: first at 2020-09-18T20:01:00Z, value=778.4080810546875\n",
      "249 Olsson: first at 2020-09-18T20:01:00Z, value=83.77934265136719\n",
      "251 Olsson: first at 2020-09-18T20:01:00Z, value=118.96615600585938\n",
      "253 Olsson: first at 2020-09-18T20:01:00Z, value=306.67333984375\n",
      "255 Olsson: first at 2020-09-18T20:01:00Z, value=143.15780639648438\n",
      "256 Olsson: first at 2020-09-18T20:01:00Z, value=1806.3182373046875\n",
      "257 Olsson: first at 2020-09-18T20:01:00Z, value=334.28302001953125\n",
      "259 Olsson: first at 2020-09-18T20:01:00Z, value=295.108154296875\n",
      "260 Olsson: first at 2020-09-18T20:01:00Z, value=1893.795166015625\n",
      "261 Olsson: first at 2020-09-18T20:01:00Z, value=81.26385498046875\n",
      "263 Olsson: first at 2020-09-18T20:01:00Z, value=242.69638061523438\n",
      "265 Olsson: first at 2020-09-18T20:01:00Z, value=462.4598388671875\n",
      "269 Olsson: first at 2020-09-18T20:01:00Z, value=6.02030086517334\n",
      "270 Olsson: first at 2020-09-18T20:01:00Z, value=1481.650634765625\n",
      "271 Olsson: first at 2020-09-18T20:01:00Z, value=9.038565635681152\n",
      "273 Olsson: first at 2020-09-18T20:01:00Z, value=8.756050109863281\n",
      "274 Olsson: first at 2020-09-18T20:01:00Z, value=66.79359436035156\n",
      "276 Olsson: first at 2020-09-18T20:01:00Z, value=7.706573963165283\n",
      "277 Olsson: first at 2020-09-18T20:01:00Z, value=740.4032592773438\n",
      "279 Olsson: first at 2020-09-18T20:01:00Z, value=446.77618408203125\n",
      "281 Olsson: first at 2020-09-18T20:01:00Z, value=117.58393096923828\n",
      "283 Olsson: first at 2020-09-18T20:01:00Z, value=127.89570617675781\n",
      "285 Olsson: first at 2020-09-18T20:01:00Z, value=206.6841583251953\n",
      "286 Olsson: first at 2020-09-18T20:01:00Z, value=164.03985595703125\n"
     ]
    }
   ],
   "source": [
    "query = \"\"\"\n",
    "SELECT FIRST(\"value\") AS first_value\n",
    "FROM \"energy_kWh\"\n",
    "WHERE \"location_specific\" =~ /^([0-9]+ Olsson)$/\n",
    "GROUP BY \"location_specific\"\n",
    "\"\"\"\n",
    "result = client.query(query)\n",
    "\n",
    "for (measurement, tags), points in result.items():\n",
    "    points = list(points)  # convert generator → list\n",
    "    if not points:\n",
    "        continue\n",
    "\n",
    "    room = tags.get('location_specific', 'Unknown') if tags else 'Unknown'\n",
    "    t = points[0]['time']\n",
    "    v = points[0]['first_value']\n",
    "    print(f\"{room}: first at {t}, value={v}\")"
   ]
  },
  {
   "cell_type": "markdown",
   "id": "8fe4c5a7",
   "metadata": {},
   "source": [
    "It looks like the energy data starts at 8pm on September 18, 2020 for all energy sensors in the LLL. Since we are looking at historical trends and querying data by year, we will query all historical data from [2021-2024] inclusive, and also get all data for 2025 up through September and store them in .csv files. The data will be summed by `location_specific` across each week and stored as a row entry."
   ]
  },
  {
   "cell_type": "markdown",
   "id": "79e88c23",
   "metadata": {},
   "source": [
    "## 2.0 Getting all necessary data"
   ]
  },
  {
   "cell_type": "markdown",
   "id": "9c86fd73",
   "metadata": {},
   "source": [
    "2.1 Creating a function that accepts variable time limits"
   ]
  },
  {
   "cell_type": "code",
   "execution_count": 29,
   "id": "6b79089c",
   "metadata": {},
   "outputs": [
    {
     "data": {
      "application/vnd.microsoft.datawrangler.viewer.v0+json": {
       "columns": [
        {
         "name": "index",
         "rawType": "int64",
         "type": "integer"
        },
        {
         "name": "time",
         "rawType": "datetime64[ns, UTC]",
         "type": "unknown"
        },
        {
         "name": "location_specific",
         "rawType": "object",
         "type": "string"
        },
        {
         "name": "energy_MWh",
         "rawType": "float64",
         "type": "float"
        },
        {
         "name": "week",
         "rawType": "int64",
         "type": "integer"
        }
       ],
       "ref": "a3d2f1ff-5d48-4d22-8823-ec587cd4b8a2",
       "rows": [
        [
         "0",
         "2023-12-28 00:00:00+00:00",
         "200 Olsson",
         "56.027",
         "1"
        ],
        [
         "1",
         "2024-01-04 00:00:00+00:00",
         "200 Olsson",
         "137.426",
         "2"
        ],
        [
         "2",
         "2024-01-11 00:00:00+00:00",
         "200 Olsson",
         "122.733",
         "3"
        ],
        [
         "3",
         "2024-01-18 00:00:00+00:00",
         "200 Olsson",
         "125.505",
         "4"
        ],
        [
         "4",
         "2024-01-25 00:00:00+00:00",
         "200 Olsson",
         "95.266",
         "5"
        ]
       ],
       "shape": {
        "columns": 4,
        "rows": 5
       }
      },
      "text/html": [
       "<div>\n",
       "<style scoped>\n",
       "    .dataframe tbody tr th:only-of-type {\n",
       "        vertical-align: middle;\n",
       "    }\n",
       "\n",
       "    .dataframe tbody tr th {\n",
       "        vertical-align: top;\n",
       "    }\n",
       "\n",
       "    .dataframe thead th {\n",
       "        text-align: right;\n",
       "    }\n",
       "</style>\n",
       "<table border=\"1\" class=\"dataframe\">\n",
       "  <thead>\n",
       "    <tr style=\"text-align: right;\">\n",
       "      <th></th>\n",
       "      <th>time</th>\n",
       "      <th>location_specific</th>\n",
       "      <th>energy_MWh</th>\n",
       "      <th>week</th>\n",
       "    </tr>\n",
       "  </thead>\n",
       "  <tbody>\n",
       "    <tr>\n",
       "      <th>0</th>\n",
       "      <td>2023-12-28 00:00:00+00:00</td>\n",
       "      <td>200 Olsson</td>\n",
       "      <td>56.027</td>\n",
       "      <td>1</td>\n",
       "    </tr>\n",
       "    <tr>\n",
       "      <th>1</th>\n",
       "      <td>2024-01-04 00:00:00+00:00</td>\n",
       "      <td>200 Olsson</td>\n",
       "      <td>137.426</td>\n",
       "      <td>2</td>\n",
       "    </tr>\n",
       "    <tr>\n",
       "      <th>2</th>\n",
       "      <td>2024-01-11 00:00:00+00:00</td>\n",
       "      <td>200 Olsson</td>\n",
       "      <td>122.733</td>\n",
       "      <td>3</td>\n",
       "    </tr>\n",
       "    <tr>\n",
       "      <th>3</th>\n",
       "      <td>2024-01-18 00:00:00+00:00</td>\n",
       "      <td>200 Olsson</td>\n",
       "      <td>125.505</td>\n",
       "      <td>4</td>\n",
       "    </tr>\n",
       "    <tr>\n",
       "      <th>4</th>\n",
       "      <td>2024-01-25 00:00:00+00:00</td>\n",
       "      <td>200 Olsson</td>\n",
       "      <td>95.266</td>\n",
       "      <td>5</td>\n",
       "    </tr>\n",
       "  </tbody>\n",
       "</table>\n",
       "</div>"
      ],
      "text/plain": [
       "                       time location_specific  energy_MWh  week\n",
       "0 2023-12-28 00:00:00+00:00        200 Olsson      56.027     1\n",
       "1 2024-01-04 00:00:00+00:00        200 Olsson     137.426     2\n",
       "2 2024-01-11 00:00:00+00:00        200 Olsson     122.733     3\n",
       "3 2024-01-18 00:00:00+00:00        200 Olsson     125.505     4\n",
       "4 2024-01-25 00:00:00+00:00        200 Olsson      95.266     5"
      ]
     },
     "execution_count": 29,
     "metadata": {},
     "output_type": "execute_result"
    }
   ],
   "source": [
    "def get_energy_summary(client, start_time, end_time):\n",
    "    \"\"\"\n",
    "    Query energy data from InfluxDB and return a weekly summed DataFrame.\n",
    "\n",
    "    Parameters\n",
    "    ----------\n",
    "    client : InfluxDBClient\n",
    "        The connected InfluxDB client.\n",
    "    start_time : str\n",
    "        Start time in ISO format, e.g. '2024-01-01T00:00:00Z'.\n",
    "    end_time : str\n",
    "        End time in ISO format, e.g. '2025-01-01T00:00:00Z'.\n",
    "\n",
    "    Returns\n",
    "    -------\n",
    "    pd.DataFrame\n",
    "        DataFrame with columns: ['time', 'location_specific', 'energy_sum', 'week']\n",
    "    \"\"\"\n",
    "    query = f\"\"\"\n",
    "    SELECT SUM(\"value\") \n",
    "    FROM \"energy_kWh\"\n",
    "    WHERE time >= '{start_time}' \n",
    "      AND time < '{end_time}'\n",
    "      AND \"location_specific\" =~ /^([0-9]+ Olsson)$/\n",
    "    GROUP BY time(1w), \"location_specific\" fill(0)\n",
    "    \"\"\"\n",
    "\n",
    "    result = client.query(query)\n",
    "\n",
    "    rows = []\n",
    "    for (measurement, tags), points in result.items():\n",
    "        location = tags.get('location_specific', 'Unknown')\n",
    "        for p in points:\n",
    "            rows.append({\n",
    "                'time': pd.to_datetime(p['time']),\n",
    "                'location_specific': location,\n",
    "                'energy_MWh': round(p.get('sum', 0) / 1000, 3) # Convert kWh to MWh\n",
    "            })\n",
    "\n",
    "    df = pd.DataFrame(rows)\n",
    "    df.sort_values(['location_specific', 'time'], inplace=True)\n",
    "    df.reset_index(drop=True, inplace=True)\n",
    "\n",
    "    # Add an incremental week counter (starts at 1)\n",
    "    df['week'] = df.groupby('location_specific').cumcount() + 1\n",
    "\n",
    "    return df\n",
    "\n",
    "test = get_energy_summary(client, '2024-01-01T00:00:00Z', '2025-01-01T00:00:00Z')\n",
    "test.head()"
   ]
  },
  {
   "cell_type": "markdown",
   "id": "d4136661",
   "metadata": {},
   "source": [
    "2.2 Finding where \"reliable\" data starts (aka not many missing entries)"
   ]
  },
  {
   "cell_type": "code",
   "execution_count": 31,
   "id": "771cd83d",
   "metadata": {},
   "outputs": [
    {
     "data": {
      "application/vnd.microsoft.datawrangler.viewer.v0+json": {
       "columns": [
        {
         "name": "index",
         "rawType": "int64",
         "type": "integer"
        },
        {
         "name": "time",
         "rawType": "datetime64[ns, UTC]",
         "type": "unknown"
        },
        {
         "name": "location_specific",
         "rawType": "object",
         "type": "string"
        },
        {
         "name": "energy_MWh",
         "rawType": "float64",
         "type": "float"
        },
        {
         "name": "week",
         "rawType": "int64",
         "type": "integer"
        }
       ],
       "ref": "64246463-982e-4633-a371-12fa95d94933",
       "rows": [
        [
         "0",
         "2020-12-31 00:00:00+00:00",
         "200 Olsson",
         "11.37",
         "1"
        ],
        [
         "1",
         "2021-01-07 00:00:00+00:00",
         "200 Olsson",
         "11.123",
         "2"
        ],
        [
         "2",
         "2021-01-14 00:00:00+00:00",
         "200 Olsson",
         "0.0",
         "3"
        ],
        [
         "3",
         "2021-01-21 00:00:00+00:00",
         "200 Olsson",
         "0.0",
         "4"
        ],
        [
         "4",
         "2021-01-28 00:00:00+00:00",
         "200 Olsson",
         "0.0",
         "5"
        ],
        [
         "5",
         "2021-02-04 00:00:00+00:00",
         "200 Olsson",
         "0.0",
         "6"
        ],
        [
         "6",
         "2021-02-11 00:00:00+00:00",
         "200 Olsson",
         "0.0",
         "7"
        ],
        [
         "7",
         "2021-02-18 00:00:00+00:00",
         "200 Olsson",
         "0.0",
         "8"
        ],
        [
         "8",
         "2021-02-25 00:00:00+00:00",
         "200 Olsson",
         "0.0",
         "9"
        ],
        [
         "9",
         "2021-03-04 00:00:00+00:00",
         "200 Olsson",
         "0.0",
         "10"
        ],
        [
         "10",
         "2021-03-11 00:00:00+00:00",
         "200 Olsson",
         "0.0",
         "11"
        ],
        [
         "11",
         "2021-03-18 00:00:00+00:00",
         "200 Olsson",
         "0.0",
         "12"
        ],
        [
         "12",
         "2021-03-25 00:00:00+00:00",
         "200 Olsson",
         "0.0",
         "13"
        ],
        [
         "13",
         "2021-04-01 00:00:00+00:00",
         "200 Olsson",
         "0.0",
         "14"
        ],
        [
         "14",
         "2021-04-08 00:00:00+00:00",
         "200 Olsson",
         "0.0",
         "15"
        ],
        [
         "15",
         "2021-04-15 00:00:00+00:00",
         "200 Olsson",
         "0.0",
         "16"
        ],
        [
         "16",
         "2021-04-22 00:00:00+00:00",
         "200 Olsson",
         "0.0",
         "17"
        ],
        [
         "17",
         "2021-04-29 00:00:00+00:00",
         "200 Olsson",
         "0.0",
         "18"
        ],
        [
         "18",
         "2021-05-06 00:00:00+00:00",
         "200 Olsson",
         "0.0",
         "19"
        ],
        [
         "19",
         "2021-05-13 00:00:00+00:00",
         "200 Olsson",
         "0.0",
         "20"
        ],
        [
         "20",
         "2021-05-20 00:00:00+00:00",
         "200 Olsson",
         "0.0",
         "21"
        ],
        [
         "21",
         "2021-05-27 00:00:00+00:00",
         "200 Olsson",
         "0.0",
         "22"
        ],
        [
         "22",
         "2021-06-03 00:00:00+00:00",
         "200 Olsson",
         "0.0",
         "23"
        ],
        [
         "23",
         "2021-06-10 00:00:00+00:00",
         "200 Olsson",
         "0.0",
         "24"
        ],
        [
         "24",
         "2021-06-17 00:00:00+00:00",
         "200 Olsson",
         "0.0",
         "25"
        ],
        [
         "25",
         "2021-06-24 00:00:00+00:00",
         "200 Olsson",
         "0.0",
         "26"
        ],
        [
         "26",
         "2021-07-01 00:00:00+00:00",
         "200 Olsson",
         "0.0",
         "27"
        ],
        [
         "27",
         "2021-07-08 00:00:00+00:00",
         "200 Olsson",
         "0.0",
         "28"
        ],
        [
         "28",
         "2021-07-15 00:00:00+00:00",
         "200 Olsson",
         "0.0",
         "29"
        ],
        [
         "29",
         "2021-07-22 00:00:00+00:00",
         "200 Olsson",
         "0.0",
         "30"
        ],
        [
         "30",
         "2021-07-29 00:00:00+00:00",
         "200 Olsson",
         "0.0",
         "31"
        ],
        [
         "31",
         "2021-08-05 00:00:00+00:00",
         "200 Olsson",
         "0.0",
         "32"
        ],
        [
         "32",
         "2021-08-12 00:00:00+00:00",
         "200 Olsson",
         "0.0",
         "33"
        ],
        [
         "33",
         "2021-08-19 00:00:00+00:00",
         "200 Olsson",
         "0.0",
         "34"
        ],
        [
         "34",
         "2021-08-26 00:00:00+00:00",
         "200 Olsson",
         "0.0",
         "35"
        ],
        [
         "35",
         "2021-09-02 00:00:00+00:00",
         "200 Olsson",
         "0.0",
         "36"
        ],
        [
         "36",
         "2021-09-09 00:00:00+00:00",
         "200 Olsson",
         "0.0",
         "37"
        ],
        [
         "37",
         "2021-09-16 00:00:00+00:00",
         "200 Olsson",
         "0.0",
         "38"
        ],
        [
         "38",
         "2021-09-23 00:00:00+00:00",
         "200 Olsson",
         "0.0",
         "39"
        ],
        [
         "39",
         "2021-09-30 00:00:00+00:00",
         "200 Olsson",
         "0.0",
         "40"
        ],
        [
         "40",
         "2021-10-07 00:00:00+00:00",
         "200 Olsson",
         "0.0",
         "41"
        ],
        [
         "41",
         "2021-10-14 00:00:00+00:00",
         "200 Olsson",
         "0.0",
         "42"
        ],
        [
         "42",
         "2021-10-21 00:00:00+00:00",
         "200 Olsson",
         "0.0",
         "43"
        ],
        [
         "43",
         "2021-10-28 00:00:00+00:00",
         "200 Olsson",
         "0.0",
         "44"
        ],
        [
         "44",
         "2021-11-04 00:00:00+00:00",
         "200 Olsson",
         "0.0",
         "45"
        ],
        [
         "45",
         "2021-11-11 00:00:00+00:00",
         "200 Olsson",
         "4.143",
         "46"
        ],
        [
         "46",
         "2021-11-18 00:00:00+00:00",
         "200 Olsson",
         "22.708",
         "47"
        ],
        [
         "47",
         "2021-11-25 00:00:00+00:00",
         "200 Olsson",
         "25.918",
         "48"
        ],
        [
         "48",
         "2021-12-02 00:00:00+00:00",
         "200 Olsson",
         "25.971",
         "49"
        ],
        [
         "49",
         "2021-12-09 00:00:00+00:00",
         "200 Olsson",
         "27.424",
         "50"
        ]
       ],
       "shape": {
        "columns": 4,
        "rows": 4305
       }
      },
      "text/html": [
       "<div>\n",
       "<style scoped>\n",
       "    .dataframe tbody tr th:only-of-type {\n",
       "        vertical-align: middle;\n",
       "    }\n",
       "\n",
       "    .dataframe tbody tr th {\n",
       "        vertical-align: top;\n",
       "    }\n",
       "\n",
       "    .dataframe thead th {\n",
       "        text-align: right;\n",
       "    }\n",
       "</style>\n",
       "<table border=\"1\" class=\"dataframe\">\n",
       "  <thead>\n",
       "    <tr style=\"text-align: right;\">\n",
       "      <th></th>\n",
       "      <th>time</th>\n",
       "      <th>location_specific</th>\n",
       "      <th>energy_MWh</th>\n",
       "      <th>week</th>\n",
       "    </tr>\n",
       "  </thead>\n",
       "  <tbody>\n",
       "    <tr>\n",
       "      <th>0</th>\n",
       "      <td>2020-12-31 00:00:00+00:00</td>\n",
       "      <td>200 Olsson</td>\n",
       "      <td>11.370</td>\n",
       "      <td>1</td>\n",
       "    </tr>\n",
       "    <tr>\n",
       "      <th>1</th>\n",
       "      <td>2021-01-07 00:00:00+00:00</td>\n",
       "      <td>200 Olsson</td>\n",
       "      <td>11.123</td>\n",
       "      <td>2</td>\n",
       "    </tr>\n",
       "    <tr>\n",
       "      <th>2</th>\n",
       "      <td>2021-01-14 00:00:00+00:00</td>\n",
       "      <td>200 Olsson</td>\n",
       "      <td>0.000</td>\n",
       "      <td>3</td>\n",
       "    </tr>\n",
       "    <tr>\n",
       "      <th>3</th>\n",
       "      <td>2021-01-21 00:00:00+00:00</td>\n",
       "      <td>200 Olsson</td>\n",
       "      <td>0.000</td>\n",
       "      <td>4</td>\n",
       "    </tr>\n",
       "    <tr>\n",
       "      <th>4</th>\n",
       "      <td>2021-01-28 00:00:00+00:00</td>\n",
       "      <td>200 Olsson</td>\n",
       "      <td>0.000</td>\n",
       "      <td>5</td>\n",
       "    </tr>\n",
       "    <tr>\n",
       "      <th>...</th>\n",
       "      <td>...</td>\n",
       "      <td>...</td>\n",
       "      <td>...</td>\n",
       "      <td>...</td>\n",
       "    </tr>\n",
       "    <tr>\n",
       "      <th>4300</th>\n",
       "      <td>2022-12-01 00:00:00+00:00</td>\n",
       "      <td>286 Olsson</td>\n",
       "      <td>4097.280</td>\n",
       "      <td>101</td>\n",
       "    </tr>\n",
       "    <tr>\n",
       "      <th>4301</th>\n",
       "      <td>2022-12-08 00:00:00+00:00</td>\n",
       "      <td>286 Olsson</td>\n",
       "      <td>4187.623</td>\n",
       "      <td>102</td>\n",
       "    </tr>\n",
       "    <tr>\n",
       "      <th>4302</th>\n",
       "      <td>2022-12-15 00:00:00+00:00</td>\n",
       "      <td>286 Olsson</td>\n",
       "      <td>4095.209</td>\n",
       "      <td>103</td>\n",
       "    </tr>\n",
       "    <tr>\n",
       "      <th>4303</th>\n",
       "      <td>2022-12-22 00:00:00+00:00</td>\n",
       "      <td>286 Olsson</td>\n",
       "      <td>4135.238</td>\n",
       "      <td>104</td>\n",
       "    </tr>\n",
       "    <tr>\n",
       "      <th>4304</th>\n",
       "      <td>2022-12-29 00:00:00+00:00</td>\n",
       "      <td>286 Olsson</td>\n",
       "      <td>1877.295</td>\n",
       "      <td>105</td>\n",
       "    </tr>\n",
       "  </tbody>\n",
       "</table>\n",
       "<p>4305 rows × 4 columns</p>\n",
       "</div>"
      ],
      "text/plain": [
       "                          time location_specific  energy_MWh  week\n",
       "0    2020-12-31 00:00:00+00:00        200 Olsson      11.370     1\n",
       "1    2021-01-07 00:00:00+00:00        200 Olsson      11.123     2\n",
       "2    2021-01-14 00:00:00+00:00        200 Olsson       0.000     3\n",
       "3    2021-01-21 00:00:00+00:00        200 Olsson       0.000     4\n",
       "4    2021-01-28 00:00:00+00:00        200 Olsson       0.000     5\n",
       "...                        ...               ...         ...   ...\n",
       "4300 2022-12-01 00:00:00+00:00        286 Olsson    4097.280   101\n",
       "4301 2022-12-08 00:00:00+00:00        286 Olsson    4187.623   102\n",
       "4302 2022-12-15 00:00:00+00:00        286 Olsson    4095.209   103\n",
       "4303 2022-12-22 00:00:00+00:00        286 Olsson    4135.238   104\n",
       "4304 2022-12-29 00:00:00+00:00        286 Olsson    1877.295   105\n",
       "\n",
       "[4305 rows x 4 columns]"
      ]
     },
     "execution_count": 31,
     "metadata": {},
     "output_type": "execute_result"
    }
   ],
   "source": [
    "energy_range = get_energy_summary(client, '2021-01-01T00:00:00Z', '2023-01-01T00:00:00Z')\n",
    "energy_range"
   ]
  },
  {
   "cell_type": "markdown",
   "id": "54bf374b",
   "metadata": {},
   "source": [
    "Based on running the code chunk above, 2021 still has little consistent sensor data (covid? still setting up? unreliable power?). Therefore, our historical tracking will begin on Jan 1, 2022 and run till the end of September 2025. We will need to figure out how to deal with missing values, likely through some kind of average imputing."
   ]
  },
  {
   "cell_type": "markdown",
   "id": "f5de52cc",
   "metadata": {},
   "source": [
    "2.3 Getting the data for our time range and storing it in a .csv file"
   ]
  },
  {
   "cell_type": "code",
   "execution_count": 32,
   "id": "baa5ec72",
   "metadata": {},
   "outputs": [
    {
     "data": {
      "application/vnd.microsoft.datawrangler.viewer.v0+json": {
       "columns": [
        {
         "name": "index",
         "rawType": "int64",
         "type": "integer"
        },
        {
         "name": "time",
         "rawType": "datetime64[ns, UTC]",
         "type": "unknown"
        },
        {
         "name": "location_specific",
         "rawType": "object",
         "type": "string"
        },
        {
         "name": "energy_MWh",
         "rawType": "float64",
         "type": "float"
        },
        {
         "name": "week",
         "rawType": "int64",
         "type": "integer"
        }
       ],
       "ref": "d82c86d7-8e96-47e1-b7a7-fd950328a72e",
       "rows": [
        [
         "0",
         "2021-12-30 00:00:00+00:00",
         "200 Olsson",
         "19.716",
         "1"
        ],
        [
         "1",
         "2022-01-06 00:00:00+00:00",
         "200 Olsson",
         "27.21",
         "2"
        ],
        [
         "2",
         "2022-01-13 00:00:00+00:00",
         "200 Olsson",
         "27.585",
         "3"
        ],
        [
         "3",
         "2022-01-20 00:00:00+00:00",
         "200 Olsson",
         "27.463",
         "4"
        ],
        [
         "4",
         "2022-01-27 00:00:00+00:00",
         "200 Olsson",
         "29.105",
         "5"
        ],
        [
         "5",
         "2022-02-03 00:00:00+00:00",
         "200 Olsson",
         "29.672",
         "6"
        ],
        [
         "6",
         "2022-02-10 00:00:00+00:00",
         "200 Olsson",
         "29.882",
         "7"
        ],
        [
         "7",
         "2022-02-17 00:00:00+00:00",
         "200 Olsson",
         "30.105",
         "8"
        ],
        [
         "8",
         "2022-02-24 00:00:00+00:00",
         "200 Olsson",
         "30.715",
         "9"
        ],
        [
         "9",
         "2022-03-03 00:00:00+00:00",
         "200 Olsson",
         "31.237",
         "10"
        ],
        [
         "10",
         "2022-03-10 00:00:00+00:00",
         "200 Olsson",
         "30.807",
         "11"
        ],
        [
         "11",
         "2022-03-17 00:00:00+00:00",
         "200 Olsson",
         "31.367",
         "12"
        ],
        [
         "12",
         "2022-03-24 00:00:00+00:00",
         "200 Olsson",
         "31.841",
         "13"
        ],
        [
         "13",
         "2022-03-31 00:00:00+00:00",
         "200 Olsson",
         "32.038",
         "14"
        ],
        [
         "14",
         "2022-04-07 00:00:00+00:00",
         "200 Olsson",
         "11.321",
         "15"
        ]
       ],
       "shape": {
        "columns": 4,
        "rows": 15
       }
      },
      "text/html": [
       "<div>\n",
       "<style scoped>\n",
       "    .dataframe tbody tr th:only-of-type {\n",
       "        vertical-align: middle;\n",
       "    }\n",
       "\n",
       "    .dataframe tbody tr th {\n",
       "        vertical-align: top;\n",
       "    }\n",
       "\n",
       "    .dataframe thead th {\n",
       "        text-align: right;\n",
       "    }\n",
       "</style>\n",
       "<table border=\"1\" class=\"dataframe\">\n",
       "  <thead>\n",
       "    <tr style=\"text-align: right;\">\n",
       "      <th></th>\n",
       "      <th>time</th>\n",
       "      <th>location_specific</th>\n",
       "      <th>energy_MWh</th>\n",
       "      <th>week</th>\n",
       "    </tr>\n",
       "  </thead>\n",
       "  <tbody>\n",
       "    <tr>\n",
       "      <th>0</th>\n",
       "      <td>2021-12-30 00:00:00+00:00</td>\n",
       "      <td>200 Olsson</td>\n",
       "      <td>19.716</td>\n",
       "      <td>1</td>\n",
       "    </tr>\n",
       "    <tr>\n",
       "      <th>1</th>\n",
       "      <td>2022-01-06 00:00:00+00:00</td>\n",
       "      <td>200 Olsson</td>\n",
       "      <td>27.210</td>\n",
       "      <td>2</td>\n",
       "    </tr>\n",
       "    <tr>\n",
       "      <th>2</th>\n",
       "      <td>2022-01-13 00:00:00+00:00</td>\n",
       "      <td>200 Olsson</td>\n",
       "      <td>27.585</td>\n",
       "      <td>3</td>\n",
       "    </tr>\n",
       "    <tr>\n",
       "      <th>3</th>\n",
       "      <td>2022-01-20 00:00:00+00:00</td>\n",
       "      <td>200 Olsson</td>\n",
       "      <td>27.463</td>\n",
       "      <td>4</td>\n",
       "    </tr>\n",
       "    <tr>\n",
       "      <th>4</th>\n",
       "      <td>2022-01-27 00:00:00+00:00</td>\n",
       "      <td>200 Olsson</td>\n",
       "      <td>29.105</td>\n",
       "      <td>5</td>\n",
       "    </tr>\n",
       "    <tr>\n",
       "      <th>5</th>\n",
       "      <td>2022-02-03 00:00:00+00:00</td>\n",
       "      <td>200 Olsson</td>\n",
       "      <td>29.672</td>\n",
       "      <td>6</td>\n",
       "    </tr>\n",
       "    <tr>\n",
       "      <th>6</th>\n",
       "      <td>2022-02-10 00:00:00+00:00</td>\n",
       "      <td>200 Olsson</td>\n",
       "      <td>29.882</td>\n",
       "      <td>7</td>\n",
       "    </tr>\n",
       "    <tr>\n",
       "      <th>7</th>\n",
       "      <td>2022-02-17 00:00:00+00:00</td>\n",
       "      <td>200 Olsson</td>\n",
       "      <td>30.105</td>\n",
       "      <td>8</td>\n",
       "    </tr>\n",
       "    <tr>\n",
       "      <th>8</th>\n",
       "      <td>2022-02-24 00:00:00+00:00</td>\n",
       "      <td>200 Olsson</td>\n",
       "      <td>30.715</td>\n",
       "      <td>9</td>\n",
       "    </tr>\n",
       "    <tr>\n",
       "      <th>9</th>\n",
       "      <td>2022-03-03 00:00:00+00:00</td>\n",
       "      <td>200 Olsson</td>\n",
       "      <td>31.237</td>\n",
       "      <td>10</td>\n",
       "    </tr>\n",
       "    <tr>\n",
       "      <th>10</th>\n",
       "      <td>2022-03-10 00:00:00+00:00</td>\n",
       "      <td>200 Olsson</td>\n",
       "      <td>30.807</td>\n",
       "      <td>11</td>\n",
       "    </tr>\n",
       "    <tr>\n",
       "      <th>11</th>\n",
       "      <td>2022-03-17 00:00:00+00:00</td>\n",
       "      <td>200 Olsson</td>\n",
       "      <td>31.367</td>\n",
       "      <td>12</td>\n",
       "    </tr>\n",
       "    <tr>\n",
       "      <th>12</th>\n",
       "      <td>2022-03-24 00:00:00+00:00</td>\n",
       "      <td>200 Olsson</td>\n",
       "      <td>31.841</td>\n",
       "      <td>13</td>\n",
       "    </tr>\n",
       "    <tr>\n",
       "      <th>13</th>\n",
       "      <td>2022-03-31 00:00:00+00:00</td>\n",
       "      <td>200 Olsson</td>\n",
       "      <td>32.038</td>\n",
       "      <td>14</td>\n",
       "    </tr>\n",
       "    <tr>\n",
       "      <th>14</th>\n",
       "      <td>2022-04-07 00:00:00+00:00</td>\n",
       "      <td>200 Olsson</td>\n",
       "      <td>11.321</td>\n",
       "      <td>15</td>\n",
       "    </tr>\n",
       "  </tbody>\n",
       "</table>\n",
       "</div>"
      ],
      "text/plain": [
       "                        time location_specific  energy_MWh  week\n",
       "0  2021-12-30 00:00:00+00:00        200 Olsson      19.716     1\n",
       "1  2022-01-06 00:00:00+00:00        200 Olsson      27.210     2\n",
       "2  2022-01-13 00:00:00+00:00        200 Olsson      27.585     3\n",
       "3  2022-01-20 00:00:00+00:00        200 Olsson      27.463     4\n",
       "4  2022-01-27 00:00:00+00:00        200 Olsson      29.105     5\n",
       "5  2022-02-03 00:00:00+00:00        200 Olsson      29.672     6\n",
       "6  2022-02-10 00:00:00+00:00        200 Olsson      29.882     7\n",
       "7  2022-02-17 00:00:00+00:00        200 Olsson      30.105     8\n",
       "8  2022-02-24 00:00:00+00:00        200 Olsson      30.715     9\n",
       "9  2022-03-03 00:00:00+00:00        200 Olsson      31.237    10\n",
       "10 2022-03-10 00:00:00+00:00        200 Olsson      30.807    11\n",
       "11 2022-03-17 00:00:00+00:00        200 Olsson      31.367    12\n",
       "12 2022-03-24 00:00:00+00:00        200 Olsson      31.841    13\n",
       "13 2022-03-31 00:00:00+00:00        200 Olsson      32.038    14\n",
       "14 2022-04-07 00:00:00+00:00        200 Olsson      11.321    15"
      ]
     },
     "execution_count": 32,
     "metadata": {},
     "output_type": "execute_result"
    }
   ],
   "source": [
    "energy_data = get_energy_summary(client, '2022-01-01T00:00:00Z', '2025-10-01T00:00:00Z')\n",
    "energy_data.to_csv('energy_data_2022_2025.csv', index=False)\n",
    "energy_data.head(15)"
   ]
  },
  {
   "cell_type": "code",
   "execution_count": 34,
   "id": "b230908c",
   "metadata": {},
   "outputs": [
    {
     "data": {
      "text/plain": [
       "(8036, 4)"
      ]
     },
     "execution_count": 34,
     "metadata": {},
     "output_type": "execute_result"
    }
   ],
   "source": [
    "energy_data.shape"
   ]
  },
  {
   "cell_type": "code",
   "execution_count": 35,
   "id": "2ae12bdd",
   "metadata": {},
   "outputs": [
    {
     "data": {
      "text/plain": [
       "196.0"
      ]
     },
     "execution_count": 35,
     "metadata": {},
     "output_type": "execute_result"
    }
   ],
   "source": [
    "# testing number of weeks based on 41 sensors...should be 195 or 196 weeks\n",
    "8036 / 41"
   ]
  }
 ],
 "metadata": {
  "kernelspec": {
   "display_name": "3.12.7-env",
   "language": "python",
   "name": "python3"
  },
  "language_info": {
   "codemirror_mode": {
    "name": "ipython",
    "version": 3
   },
   "file_extension": ".py",
   "mimetype": "text/x-python",
   "name": "python",
   "nbconvert_exporter": "python",
   "pygments_lexer": "ipython3",
   "version": "3.12.7"
  }
 },
 "nbformat": 4,
 "nbformat_minor": 5
}
